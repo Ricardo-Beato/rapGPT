{
 "cells": [
  {
   "cell_type": "code",
   "execution_count": 1,
   "id": "62c66513",
   "metadata": {},
   "outputs": [
    {
     "name": "stdout",
     "output_type": "stream",
     "text": [
      "WARNING:tensorflow:From C:\\Users\\mocid\\miniconda3\\envs\\ironhack_project_1\\Lib\\site-packages\\keras\\src\\losses.py:2976: The name tf.losses.sparse_softmax_cross_entropy is deprecated. Please use tf.compat.v1.losses.sparse_softmax_cross_entropy instead.\n",
      "\n"
     ]
    }
   ],
   "source": [
    "import os #needed for the API for example (to access environment variables)\n",
    "from dotenv import load_dotenv #needed to load environmet variables to this project\n",
    "import tensorflow as tf #for the RNN (recurring neural network)\n",
    "import keras #for the RNN (recurring neural network)\n",
    "from keras import layers #for the RNN (recurring neural network)\n",
    "import numpy as np\n",
    "import os #to interact with the folders of this project\n",
    "import time #this will allow us to create a time buffer between each lyrics extraction \n",
    "import lyricsgenius as lg #(to work with the genius.com API)\n",
    "import requests #to request data from Genius API (sending http requests)\n",
    "import json #to read the extracted info from the API (encoding and decoding the info we got)\n",
    "import pandas as pd\n",
    "from requests.exceptions import SSLError #to handle exceptions when fetching data from Genius\n",
    "import re\n",
    "import logging #for the logbook I created to record the errors while fetching lyrics from the API genius\n",
    "from nltk.tokenize import word_tokenize #Natural Language Toolkit to count words and single words and process text"
   ]
  },
  {
   "cell_type": "markdown",
   "id": "5c9da1e8",
   "metadata": {},
   "source": [
    "### Compiling all the lyrics into a \"Lyrics_compilation.txt\""
   ]
  },
  {
   "cell_type": "code",
   "execution_count": 2,
   "id": "26bb4d64",
   "metadata": {},
   "outputs": [
    {
     "name": "stdout",
     "output_type": "stream",
     "text": [
      "(14272, 10)\n"
     ]
    },
    {
     "data": {
      "text/html": [
       "<div>\n",
       "<style scoped>\n",
       "    .dataframe tbody tr th:only-of-type {\n",
       "        vertical-align: middle;\n",
       "    }\n",
       "\n",
       "    .dataframe tbody tr th {\n",
       "        vertical-align: top;\n",
       "    }\n",
       "\n",
       "    .dataframe thead th {\n",
       "        text-align: right;\n",
       "    }\n",
       "</style>\n",
       "<table border=\"1\" class=\"dataframe\">\n",
       "  <thead>\n",
       "    <tr style=\"text-align: right;\">\n",
       "      <th></th>\n",
       "      <th>title</th>\n",
       "      <th>album</th>\n",
       "      <th>release_date</th>\n",
       "      <th>featured_artists</th>\n",
       "      <th>producer_artists</th>\n",
       "      <th>writer_artists</th>\n",
       "      <th>genius_track_id</th>\n",
       "      <th>genius_album_id</th>\n",
       "      <th>artist</th>\n",
       "      <th>file_exists</th>\n",
       "    </tr>\n",
       "  </thead>\n",
       "  <tbody>\n",
       "    <tr>\n",
       "      <th>0</th>\n",
       "      <td>1.5</td>\n",
       "      <td>i am﹥i was</td>\n",
       "      <td>2018</td>\n",
       "      <td>['Offset']</td>\n",
       "      <td>['Nils', 'Wheezy']</td>\n",
       "      <td>['Nils', 'Wheezy', 'Offset', '21 Savage']</td>\n",
       "      <td>4155501</td>\n",
       "      <td>477314</td>\n",
       "      <td>21 Savage</td>\n",
       "      <td>True</td>\n",
       "    </tr>\n",
       "    <tr>\n",
       "      <th>1</th>\n",
       "      <td>H2O</td>\n",
       "      <td>Free Guwop EP</td>\n",
       "      <td>2015</td>\n",
       "      <td>[]</td>\n",
       "      <td>['Sonny Digital', 'Zaytoven']</td>\n",
       "      <td>['Zaytoven', 'Sonny Digital', '21 Savage']</td>\n",
       "      <td>2251254</td>\n",
       "      <td>134590</td>\n",
       "      <td>21 Savage</td>\n",
       "      <td>False</td>\n",
       "    </tr>\n",
       "    <tr>\n",
       "      <th>2</th>\n",
       "      <td>​gun smoke</td>\n",
       "      <td>i am﹥i was</td>\n",
       "      <td>2018</td>\n",
       "      <td>[]</td>\n",
       "      <td>['Freek van Workum', 'ItsNicklus', 'Kid Hazel']</td>\n",
       "      <td>['Freek van Workum', 'ItsNicklus', 'Kid Hazel'...</td>\n",
       "      <td>4155500</td>\n",
       "      <td>477314</td>\n",
       "      <td>21 Savage</td>\n",
       "      <td>True</td>\n",
       "    </tr>\n",
       "    <tr>\n",
       "      <th>3</th>\n",
       "      <td>​good day</td>\n",
       "      <td>i am﹥i was</td>\n",
       "      <td>2018</td>\n",
       "      <td>['Project Pat', 'ScHoolboy Q']</td>\n",
       "      <td>['Cardo', '30 Roc']</td>\n",
       "      <td>['21 Savage', 'ScHoolboy Q', 'Project Pat', 'C...</td>\n",
       "      <td>4155511</td>\n",
       "      <td>477314</td>\n",
       "      <td>21 Savage</td>\n",
       "      <td>True</td>\n",
       "    </tr>\n",
       "    <tr>\n",
       "      <th>4</th>\n",
       "      <td>Gang</td>\n",
       "      <td>The Slaughter Tape</td>\n",
       "      <td>2015</td>\n",
       "      <td>[]</td>\n",
       "      <td>['F12']</td>\n",
       "      <td>['F12', '21 Savage']</td>\n",
       "      <td>2442069</td>\n",
       "      <td>133503</td>\n",
       "      <td>21 Savage</td>\n",
       "      <td>True</td>\n",
       "    </tr>\n",
       "  </tbody>\n",
       "</table>\n",
       "</div>"
      ],
      "text/plain": [
       "        title               album  release_date  \\\n",
       "0         1.5          i am﹥i was          2018   \n",
       "1         H2O       Free Guwop EP          2015   \n",
       "2  ​gun smoke          i am﹥i was          2018   \n",
       "3   ​good day          i am﹥i was          2018   \n",
       "4        Gang  The Slaughter Tape          2015   \n",
       "\n",
       "                 featured_artists  \\\n",
       "0                      ['Offset']   \n",
       "1                              []   \n",
       "2                              []   \n",
       "3  ['Project Pat', 'ScHoolboy Q']   \n",
       "4                              []   \n",
       "\n",
       "                                  producer_artists  \\\n",
       "0                               ['Nils', 'Wheezy']   \n",
       "1                    ['Sonny Digital', 'Zaytoven']   \n",
       "2  ['Freek van Workum', 'ItsNicklus', 'Kid Hazel']   \n",
       "3                              ['Cardo', '30 Roc']   \n",
       "4                                          ['F12']   \n",
       "\n",
       "                                      writer_artists  genius_track_id  \\\n",
       "0          ['Nils', 'Wheezy', 'Offset', '21 Savage']          4155501   \n",
       "1         ['Zaytoven', 'Sonny Digital', '21 Savage']          2251254   \n",
       "2  ['Freek van Workum', 'ItsNicklus', 'Kid Hazel'...          4155500   \n",
       "3  ['21 Savage', 'ScHoolboy Q', 'Project Pat', 'C...          4155511   \n",
       "4                               ['F12', '21 Savage']          2442069   \n",
       "\n",
       "   genius_album_id     artist  file_exists  \n",
       "0           477314  21 Savage         True  \n",
       "1           134590  21 Savage        False  \n",
       "2           477314  21 Savage         True  \n",
       "3           477314  21 Savage         True  \n",
       "4           133503  21 Savage         True  "
      ]
     },
     "execution_count": 2,
     "metadata": {},
     "output_type": "execute_result"
    }
   ],
   "source": [
    "songs_metadata_df = pd.read_csv(\"data/songs_metadata.csv\")\n",
    "print(songs_metadata_df.shape)\n",
    "songs_metadata_df.head()"
   ]
  },
  {
   "cell_type": "markdown",
   "id": "2c02917c",
   "metadata": {},
   "source": [
    "A function that compiles the songs for the artists in the list into another file called \"Lyrics_compilation\""
   ]
  },
  {
   "cell_type": "markdown",
   "id": "64fcbbbc",
   "metadata": {},
   "source": [
    "### First an example for one artist only (Kendrick Lamar)"
   ]
  },
  {
   "cell_type": "code",
   "execution_count": 3,
   "id": "83684154",
   "metadata": {},
   "outputs": [
    {
     "name": "stdout",
     "output_type": "stream",
     "text": [
      "Files have been successfully combined for Kendrick Lamar.\n"
     ]
    }
   ],
   "source": [
    "#let's set up a process to compile first the files for an artist and then let's do a broader range for all the files:\n",
    "#this the place for our files as usual\n",
    "data_folder = \"data\"\n",
    "\n",
    "#comprehension-listing the files in the folder with a loop:\n",
    "all_files = [file for file in os.listdir(data_folder) if file.endswith(\".txt\")] #the file must be a txt\n",
    "kendrick_files = [file for file in all_files if \"__Kendrick Lamar\" in file] #we just want King Kunta (aka Kendrick)\n",
    "\n",
    "# this it the path for the output file, in my example I'm simply gonna call it according to Kendrick\n",
    "output_file_path = os.path.join(data_folder, \"_Kendrick Lamar_style.txt\")\n",
    "\n",
    "def read_file_with_skipped_first_row(file_path):\n",
    "    with open(file_path, 'r', encoding='utf-8') as file:\n",
    "        lines = file.readlines()[1:]  # Skip the first row cause I did not manage to clean the headers when instantiating the genius client\n",
    "        return ''.join(lines)\n",
    "\n",
    "# Combine the content of Kendrick Lamar files\n",
    "combined_content = \"\"\n",
    "for kendrick_file in kendrick_files:\n",
    "    file_path = os.path.join(data_folder, kendrick_file)\n",
    "    combined_content += read_file_with_skipped_first_row(file_path) + '\\n'\n",
    "\n",
    "with open(output_file_path, 'w', encoding='utf-8') as output_file: #to write the content into the combined\n",
    "    output_file.write(combined_content)\n",
    "\n",
    "print(\"Files have been successfully combined for Kendrick Lamar.\")\n"
   ]
  },
  {
   "cell_type": "code",
   "execution_count": 4,
   "id": "05a2a63c",
   "metadata": {},
   "outputs": [
    {
     "name": "stdout",
     "output_type": "stream",
     "text": [
      "81 Files have been successfully combined for all artists in data\\Lyrics_compilation.txt.\n"
     ]
    }
   ],
   "source": [
    "#  # once again, all of this in our data folder:\n",
    "# data_folder = \"data\"\n",
    "\n",
    "# # List of artists\n",
    "# artists_songs_metadata = [\n",
    "#     \"2Pac\", \"21 Savage\", \"50 Cent\", \"A Tribe Called Quest\",\n",
    "#     \"A_AP Rocky\", \"Aesop Rock\", \"Atmosphere\", \"Azealia Banks\",\n",
    "#     \"Baby Keem\", \"Big Daddy Kane\", \"Big L\", \"Big Pun\",\n",
    "#     \"Big Sean\", \"Cardi B\", \"Chance the Rapper\", \"Chief Keef\",\n",
    "#     \"Childish Gambino\", \"Common\", \"Cordae\", \"Cypress Hill\",\n",
    "#     \"Danny Brown\", \"De La Soul\", \"DMX\", \"Doja Cat\",\n",
    "#     \"Dr_ Dre\", \"Drake\", \"Earl Sweatshirt\", \"Eminem\",\n",
    "#     \"Eric B_ _ Rakim\", \"Future\", \"Ghostface Killah\", \"Gucci Mane\",\n",
    "#     \"Hopsin\", \"Ice Cube\", \"Ice Spice\", \"J. Cole\",\n",
    "#     \"Jack Harlow\", \"JAY_Z\", \"Jeezy\", \"Joey Bada__\",\n",
    "#     \"Joyner Lucas\", \"Juice WRLD\", \"Kanye West\", \"Kendrick Lamar\",\n",
    "#     \"Kid Cudi\", \"KMD\", \"Lauryn Hill\", \"Lil Nas X\",\n",
    "#     \"Lil Uzi Vert\", \"Lil Wayne\", \"Lil Yachty\", \"Lil_ Kim\",\n",
    "#     \"Logic\", \"Lupe Fiasco\", \"Mac Miller\", \"Masta Ace\",\n",
    "#     \"Megan Thee Stallion\", \"MF DOOM\", \"Migos\", \"Missy Elliott\",\n",
    "#     \"Mobb Deep\", \"Nas\", \"Nipsey Hussle\", \"OutKast\",\n",
    "#     \"Playboi Carti\", \"Pop Smoke\", \"Public Enemy\", \"Pusha T\",\n",
    "#     \"Queen Latifah\", \"Run_DMC\", \"Scarface\", \"Slick Rick\",\n",
    "#     \"Snoop Dogg\", \"Talib Kweli\", \"The Notorious B.I.G.\", \"The Pharcyde\",\n",
    "#     \"Travis Scott\", \"Vince Staples\", \"Wu_Tang Clan\", \"Yasiin Bey\",\n",
    "#     \"Young Thug\"\n",
    "# ]\n",
    "\n",
    "# output_file_path = os.path.join(data_folder, \"Lyrics_compilation.txt\")\n",
    "\n",
    "# def read_file_with_skipped_first_row(file_path):\n",
    "    \n",
    "#     \"\"\"\n",
    "#     this function is basically compiling every file for the artist but skipping the first row (that contains a header)\n",
    "#     \"\"\"\n",
    "    \n",
    "#     with open(file_path, 'r', encoding='utf-8') as file:\n",
    "#         lines = file.readlines()[1:]  # Skip the first row\n",
    "#         return ''.join(lines)\n",
    "\n",
    "# # Combining the content of all artists' files:\n",
    "# combined_content = \"\"\n",
    "\n",
    "# count_files_compiled = 0\n",
    "\n",
    "# for artist in artists_songs_metadata:\n",
    "#     artist_files = [file for file in os.listdir(data_folder) if f\"__{artist}\" in file]\n",
    "#     for artist_file in artist_files:\n",
    "#         file_path = os.path.join(data_folder, artist_file)\n",
    "#         combined_content += read_file_with_skipped_first_row(file_path) + '\\n'\n",
    "    \n",
    "#     #to make it more visually accessible to me cause I'll necessarily also do some human-cleaning\n",
    "#     #I want to add a paragraph inbetween each songg that is compiled:\n",
    "#     combined_content += '\\n\\n'\n",
    "#     count_files_compiled += 1\n",
    "\n",
    "\n",
    "# #pasting the the combined content to the output file with UTF-8 encoding\n",
    "# with open(output_file_path, 'w', encoding='utf-8') as output_file:\n",
    "#     output_file.write(combined_content)\n",
    "\n",
    "# print(f\"{count_files_compiled} Files have been successfully combined for all artists in {output_file_path}.\")\n"
   ]
  },
  {
   "cell_type": "markdown",
   "id": "6c4dfcb2",
   "metadata": {},
   "source": [
    "## Hands on the model:"
   ]
  },
  {
   "cell_type": "markdown",
   "id": "2d5e84c7",
   "metadata": {},
   "source": [
    "#### DISCLAIMER: This model is heavily going to rely on [the one created by the Brain team at google and I'll follow their tutorial](https://www.tensorflow.org/text/tutorials/text_generation)"
   ]
  },
  {
   "cell_type": "markdown",
   "id": "c8939b92",
   "metadata": {},
   "source": [
    "### Importing the file:"
   ]
  },
  {
   "cell_type": "code",
   "execution_count": 3,
   "id": "5511466c",
   "metadata": {},
   "outputs": [],
   "source": [
    "#1\n",
    "relative_path = \"data/Lyrics_compilation.txt\"\n",
    "path_to_file = os.path.join(os.getcwd(), relative_path)"
   ]
  },
  {
   "cell_type": "markdown",
   "id": "40fcd9c5",
   "metadata": {},
   "source": [
    "### Reading the data:"
   ]
  },
  {
   "cell_type": "code",
   "execution_count": 4,
   "id": "79f7fdc2",
   "metadata": {},
   "outputs": [
    {
     "name": "stdout",
     "output_type": "stream",
     "text": [
      "Length of text: 286036 characters\n"
     ]
    }
   ],
   "source": [
    "# Read, then decode for py2 compat.\n",
    "text = open(path_to_file, 'rb').read().decode(encoding='utf-8')\n",
    "# length of text is the number of characters in it\n",
    "print(f'Length of text: {len(text)} characters')"
   ]
  },
  {
   "cell_type": "markdown",
   "id": "69af8de3",
   "metadata": {},
   "source": [
    "why encoding this into binary mode?\n",
    "\n",
    "In Python, opening a file in binary mode ('rb') is done to avoid encoding ambiguity and preserve the raw byte representation of the file content. This is crucial when dealing with non-text files or unknown encodings. Binary mode ensures consistency across platforms and systems, especially regarding newline characters. The subsequent use of .decode(encoding='utf-8') explicitly converts the byte sequence to a Unicode string using the UTF-8 encoding, addressing potential encoding issues during file read. Overall, the approach provides controlled decoding while maintaining the original byte representation."
   ]
  },
  {
   "cell_type": "code",
   "execution_count": 5,
   "id": "6f197434",
   "metadata": {},
   "outputs": [
    {
     "name": "stdout",
     "output_type": "stream",
     "text": [
      "We done came up\r\n",
      "Everybody love ‘em\r\n",
      "On the regular\r\n",
      "Lookin’ at popular colored faces\r\n",
      "Observing what my brothers faces in all races\r\n",
      "Lost in generations before hatred\r\n",
      "See with your eyes dilated for the sake of the Gs\r\n",
      "But keep it sacred G, fuck a r\n"
     ]
    }
   ],
   "source": [
    "# Take a look at the first 250 characters in text\n",
    "print(text[:250])"
   ]
  },
  {
   "cell_type": "markdown",
   "id": "b24aef25",
   "metadata": {},
   "source": [
    "Yes 🫠 there's an issue with the headers. Unfortunately when I instantiated the lyricsgenius client, I ask objectively not to print the headers and still in my tests I did not manage to work this around. I don't think this is going to be much of an issue though."
   ]
  },
  {
   "cell_type": "code",
   "execution_count": 6,
   "id": "190a9679",
   "metadata": {},
   "outputs": [
    {
     "name": "stdout",
     "output_type": "stream",
     "text": [
      "95 unique characters\n"
     ]
    }
   ],
   "source": [
    "# The unique characters in the file\n",
    "vocab = sorted(set(text))\n",
    "print(f'{len(vocab)} unique characters')"
   ]
  },
  {
   "cell_type": "markdown",
   "id": "e0f3f803",
   "metadata": {},
   "source": [
    "### Processing the text:"
   ]
  },
  {
   "cell_type": "markdown",
   "id": "d2fb49f9",
   "metadata": {},
   "source": [
    "Before training, we need to convert the strings to a numerical representation. Why do we do this? Basically for TensorFlow to identify patterns, it needs to be fed numbers. Vectorizing means transforming words into numbers that it will study to identify patterns. ex:"
   ]
  },
  {
   "cell_type": "code",
   "execution_count": 7,
   "id": "fdac9f18",
   "metadata": {},
   "outputs": [
    {
     "data": {
      "text/plain": [
       "<tf.RaggedTensor [[b'R', b'a', b'p', b'p', b'e', b'r', b\"'\", b's'],\n",
       " [b'D', b'e', b'l', b'i', b'g', b'h', b't']]>"
      ]
     },
     "execution_count": 7,
     "metadata": {},
     "output_type": "execute_result"
    }
   ],
   "source": [
    "#2\n",
    "example_texts = [\"Rapper's\", 'Delight']\n",
    "chars = tf.strings.unicode_split(example_texts, input_encoding='UTF-8')\n",
    "chars"
   ]
  },
  {
   "cell_type": "markdown",
   "id": "095673ef",
   "metadata": {},
   "source": [
    "What did we do and why did we do it? we basically decomposed the two words 'Rapper's' and 'Delight' into their corresponding letters (=RaggedTensor). The \"b\" behind them signifies they're a byte. Why? Many natural language processing (NLP) tasks, including text generation, work at the character level. Splitting words into individual characters allows the model to understand and generate text at a finer granularity. The resulting RaggedTensor represents each word as a sequence of characters. This sequential representation is essential for models like recurrent neural networks (RNNs), which can learn patterns and dependencies in sequences."
   ]
  },
  {
   "cell_type": "markdown",
   "id": "3017700d",
   "metadata": {},
   "source": [
    "Creating a tf.keras.layers.StringLookup layer:"
   ]
  },
  {
   "cell_type": "code",
   "execution_count": 8,
   "id": "00f4b315",
   "metadata": {},
   "outputs": [
    {
     "name": "stdout",
     "output_type": "stream",
     "text": [
      "WARNING:tensorflow:From C:\\Users\\mocid\\miniconda3\\envs\\ironhack_project_1\\Lib\\site-packages\\keras\\src\\backend.py:873: The name tf.get_default_graph is deprecated. Please use tf.compat.v1.get_default_graph instead.\n",
      "\n",
      "WARNING:tensorflow:From C:\\Users\\mocid\\miniconda3\\envs\\ironhack_project_1\\Lib\\site-packages\\keras\\src\\utils\\tf_utils.py:492: The name tf.ragged.RaggedTensorValue is deprecated. Please use tf.compat.v1.ragged.RaggedTensorValue instead.\n",
      "\n"
     ]
    },
    {
     "data": {
      "text/plain": [
       "<tf.RaggedTensor [[47, 56, 71, 71, 60, 73, 9, 74], [33, 60, 67, 64, 62, 63, 75]]>"
      ]
     },
     "execution_count": 8,
     "metadata": {},
     "output_type": "execute_result"
    }
   ],
   "source": [
    "#3\n",
    "ids_from_chars = tf.keras.layers.StringLookup(\n",
    "    vocabulary=list(vocab), mask_token=None)\n",
    "\n",
    "ids = ids_from_chars(chars)\n",
    "ids"
   ]
  },
  {
   "cell_type": "markdown",
   "id": "74ead77a",
   "metadata": {},
   "source": [
    "Here we're essentially creating a mapping from characters to integer indices using a StringLookup layer. This is a common preprocessing step in text-related tasks, where you convert raw text data into a format that can be fed into a neural network. Basically telling the computer that each letter is a number."
   ]
  },
  {
   "cell_type": "markdown",
   "id": "013569aa",
   "metadata": {},
   "source": [
    "Since the goal of this tutorial is to generate text, it will also be important to invert this representation and recover human-readable strings from it. For this we can use tf.keras.layers.StringLookup(..., invert=True)."
   ]
  },
  {
   "cell_type": "code",
   "execution_count": 9,
   "id": "b7bea170",
   "metadata": {},
   "outputs": [],
   "source": [
    "#4\n",
    "chars_from_ids = tf.keras.layers.StringLookup(\n",
    "    vocabulary=ids_from_chars.get_vocabulary(), invert=True, mask_token=None)"
   ]
  },
  {
   "cell_type": "markdown",
   "id": "b24af8f4",
   "metadata": {},
   "source": [
    "This layer recovers the characters from the vectors of IDs, and returns them as a tf.RaggedTensor of characters:"
   ]
  },
  {
   "cell_type": "code",
   "execution_count": 10,
   "id": "150d0674",
   "metadata": {},
   "outputs": [
    {
     "data": {
      "text/plain": [
       "<tf.RaggedTensor [[b'R', b'a', b'p', b'p', b'e', b'r', b\"'\", b's'],\n",
       " [b'D', b'e', b'l', b'i', b'g', b'h', b't']]>"
      ]
     },
     "execution_count": 10,
     "metadata": {},
     "output_type": "execute_result"
    }
   ],
   "source": [
    "#5\n",
    "chars = chars_from_ids(ids)\n",
    "chars"
   ]
  },
  {
   "cell_type": "code",
   "execution_count": 11,
   "id": "01c431c4",
   "metadata": {},
   "outputs": [
    {
     "data": {
      "text/plain": [
       "array([b\"Rapper's\", b'Delight'], dtype=object)"
      ]
     },
     "execution_count": 11,
     "metadata": {},
     "output_type": "execute_result"
    }
   ],
   "source": [
    "#join back the characters into strings, this is translating what the robot told us:\n",
    "tf.strings.reduce_join(chars, axis=-1).numpy()"
   ]
  },
  {
   "cell_type": "code",
   "execution_count": 12,
   "id": "013d6c40",
   "metadata": {},
   "outputs": [],
   "source": [
    "#7\n",
    "def text_from_ids(ids):\n",
    "  return tf.strings.reduce_join(chars_from_ids(ids), axis=-1)"
   ]
  },
  {
   "cell_type": "markdown",
   "id": "e79b7e44",
   "metadata": {},
   "source": [
    "### The prediction task\n",
    "To teach the computer, we need to break the story into small parts. If our story is \"Hello,\" and we choose a part size of 4, we'd have two parts: \"Hell\" and \"ello.\" The idea is to use the first part to teach the computer what comes after \"Hell\" and do this for every part of the story.\n",
    "\n",
    "So, we create pairs of input and target sequences. If our story is \"Hello\" and our part size is 4, we'd have:\n",
    "\n",
    "Input: \"Hell\" (the computer needs to predict what comes next after \"Hell\")\n",
    "Target: \"ello\" (this is what actually comes next)\n",
    "\n",
    "We are basically creating training examples and targets, to do this we first use the tf.data.Dataset.from_tensor_slices function to convert the text vector into a stream of character indices."
   ]
  },
  {
   "cell_type": "code",
   "execution_count": 13,
   "id": "0a1a36f5",
   "metadata": {},
   "outputs": [
    {
     "data": {
      "text/plain": [
       "<tf.Tensor: shape=(286036,), dtype=int64, numpy=array([52, 60,  3, ..., 74, 70,  3], dtype=int64)>"
      ]
     },
     "execution_count": 13,
     "metadata": {},
     "output_type": "execute_result"
    }
   ],
   "source": [
    "#8\n",
    "all_ids = ids_from_chars(tf.strings.unicode_split(text, 'UTF-8'))\n",
    "all_ids"
   ]
  },
  {
   "cell_type": "markdown",
   "id": "f125eed0",
   "metadata": {},
   "source": [
    "Basically with the above code, we're asking the computer to give us, in order, the integers associated to each of the characters in the Shakespeare passage we've seen before. It's returning them in an array"
   ]
  },
  {
   "cell_type": "code",
   "execution_count": 14,
   "id": "46172181",
   "metadata": {},
   "outputs": [],
   "source": [
    "#9\n",
    "ids_dataset = tf.data.Dataset.from_tensor_slices(all_ids)"
   ]
  },
  {
   "cell_type": "markdown",
   "id": "915400ee",
   "metadata": {},
   "source": [
    "☝️ creating a TensorFlow dataset from the array of integers (all_ids). Each element of this dataset will be a chunk of numerical representations corresponding to characters in our lyrics compilation. This step is necessary for preparing the data for training our model."
   ]
  },
  {
   "cell_type": "code",
   "execution_count": 15,
   "id": "c107d83b",
   "metadata": {},
   "outputs": [
    {
     "name": "stdout",
     "output_type": "stream",
     "text": [
      "W\n",
      "e\n",
      " \n",
      "d\n",
      "o\n",
      "n\n",
      "e\n",
      " \n",
      "c\n",
      "a\n"
     ]
    }
   ],
   "source": [
    "#10\n",
    "for ids in ids_dataset.take(10):\n",
    "    print(chars_from_ids(ids).numpy().decode('utf-8'))"
   ]
  },
  {
   "cell_type": "code",
   "execution_count": 16,
   "id": "486c4b55",
   "metadata": {},
   "outputs": [
    {
     "name": "stdout",
     "output_type": "stream",
     "text": [
      "tf.Tensor(\n",
      "[b'W' b'e' b' ' b'd' b'o' b'n' b'e' b' ' b'c' b'a' b'm' b'e' b' ' b'u'\n",
      " b'p' b'\\r' b'\\n' b'E' b'v' b'e' b'r' b'y' b'b' b'o' b'd' b'y' b' ' b'l'\n",
      " b'o' b'v' b'e' b' ' b'\\xe2\\x80\\x98' b'e' b'm' b'\\r' b'\\n' b'O' b'n' b' '\n",
      " b't' b'h' b'e' b' ' b'r' b'e' b'g' b'u' b'l' b'a' b'r' b'\\r' b'\\n' b'L'\n",
      " b'o' b'o' b'k' b'i' b'n' b'\\xe2\\x80\\x99' b' ' b'a' b't' b' ' b'p' b'o'\n",
      " b'p' b'u' b'l' b'a' b'r' b' ' b'c' b'o' b'l' b'o' b'r' b'e' b'd' b' '\n",
      " b'f' b'a' b'c' b'e' b's' b'\\r' b'\\n' b'O' b'b' b's' b'e' b'r' b'v' b'i'\n",
      " b'n' b'g' b' ' b'w' b'h' b'a' b't'], shape=(101,), dtype=string)\n"
     ]
    }
   ],
   "source": [
    "#11 DEFINING THE SEQUENCE LENGHT: This means each input sequence for training OUR model will contain 100 characters.\n",
    "seq_length = 100\n",
    "sequences = ids_dataset.batch(seq_length+1, drop_remainder=True)\n",
    "\n",
    "#creating sequences by batching the numerical representations of characters. \n",
    "#Each sequence consists of seq_length + 1 elements, where the first seq_length elements are the input, \n",
    "#and the last one is the target. The drop_remainder=True ensures that you get complete batches, \n",
    "#discarding any leftover characters.\n",
    "\n",
    "for seq in sequences.take(1):\n",
    "  print(chars_from_ids(seq))\n",
    "\n",
    "#prints the first sequence in our lyrics_compilation. We're using chars_from_ids to convert the numerical representations \n",
    "#back into characters for better readability during exploration or debugging."
   ]
  },
  {
   "cell_type": "markdown",
   "id": "c9f138b3",
   "metadata": {},
   "source": [
    "Important concept here: BATCHES. we are segmenting the whole lyrics_compilation into smaller datasets, ie, into batches. Batch size here was defined to be 101 characters.\n",
    "\n",
    "In summary, these steps are preparing our data for training. We're converting the numerical representations into a TensorFlow dataset and then creating sequences for training your model."
   ]
  },
  {
   "cell_type": "code",
   "execution_count": 17,
   "id": "70b25905",
   "metadata": {},
   "outputs": [
    {
     "name": "stdout",
     "output_type": "stream",
     "text": [
      "b'We done came up\\r\\nEverybody love \\xe2\\x80\\x98em\\r\\nOn the regular\\r\\nLookin\\xe2\\x80\\x99 at popular colored faces\\r\\nObserving what'\n",
      "b' my brothers faces in all races\\r\\nLost in generations before hatred\\r\\nSee with your eyes dilated for th'\n",
      "b'e sake of the Gs\\r\\nBut keep it sacred G, fuck a rat race, we take the cheese\\r\\nJack cheddar from the ma'\n",
      "b'ke believe\\r\\nBreak the trees on they eighth CD\\r\\nRocking the red and black lumberjack faithfully\\r\\nI\\xe2\\x80\\x99m a'\n",
      "b' Brooklyn nigga, basically I grind with the grimiest\\r\\nLearn how to eat in the jungle full of hyenas\\r\\n'\n"
     ]
    }
   ],
   "source": [
    "#12 - to better see what's been printed:\n",
    "for seq in sequences.take(5):\n",
    "  print(text_from_ids(seq).numpy())"
   ]
  },
  {
   "cell_type": "markdown",
   "id": "df8c7d80",
   "metadata": {},
   "source": [
    "As mentioned, we're training the model with pairs of an input abd a label, remember the (R)apper's deligh(t) example. At each step the input will be the current character and the label is the next one.\n",
    "\n",
    "Here's a function that takes a sequence as input, duplicates, and shifts it to align the input and label for each timestep:"
   ]
  },
  {
   "cell_type": "code",
   "execution_count": 18,
   "id": "b294fc4f",
   "metadata": {},
   "outputs": [],
   "source": [
    "#13  a function that takes a sequence as input, duplicates, and shifts it to align the input and label for each timestep:\n",
    "def split_input_target(sequence):\n",
    "    input_text = sequence[:-1]\n",
    "    target_text = sequence[1:]\n",
    "    return input_text, target_text"
   ]
  },
  {
   "cell_type": "code",
   "execution_count": 19,
   "id": "098f5931",
   "metadata": {},
   "outputs": [
    {
     "data": {
      "text/plain": [
       "(['R', 'a', 'p', 'p', 'e', 'r', \"'\", 's', ' ', 'D', 'e', 'l', 'i', 'g', 'h'],\n",
       " ['a', 'p', 'p', 'e', 'r', \"'\", 's', ' ', 'D', 'e', 'l', 'i', 'g', 'h', 't'])"
      ]
     },
     "execution_count": 19,
     "metadata": {},
     "output_type": "execute_result"
    }
   ],
   "source": [
    "split_input_target(list(\"Rapper's Delight\"))"
   ]
  },
  {
   "cell_type": "code",
   "execution_count": 20,
   "id": "7753fa35",
   "metadata": {},
   "outputs": [
    {
     "name": "stdout",
     "output_type": "stream",
     "text": [
      "Input : b'We done came up\\r\\nEverybody love \\xe2\\x80\\x98em\\r\\nOn the regular\\r\\nLookin\\xe2\\x80\\x99 at popular colored faces\\r\\nObserving wha'\n",
      "Target: b'e done came up\\r\\nEverybody love \\xe2\\x80\\x98em\\r\\nOn the regular\\r\\nLookin\\xe2\\x80\\x99 at popular colored faces\\r\\nObserving what'\n"
     ]
    }
   ],
   "source": [
    "#14\n",
    "dataset = sequences.map(split_input_target)\n",
    "for input_example, target_example in dataset.take(1):\n",
    "    print(\"Input :\", text_from_ids(input_example).numpy())\n",
    "    print(\"Target:\", text_from_ids(target_example).numpy())"
   ]
  },
  {
   "cell_type": "markdown",
   "id": "be13a4fe",
   "metadata": {},
   "source": [
    "☝️ With the above code, we are basically creating the pair (input, label) we said we needed to train the model where the label will have the same lenght as the input but will be misplaced one character to the right (example: Sequence = \"Ricardo\", Input = \"Ricard\", Label = \"icardo\")"
   ]
  },
  {
   "cell_type": "markdown",
   "id": "b6536b1f",
   "metadata": {},
   "source": [
    "### Creating the training batches:"
   ]
  },
  {
   "cell_type": "code",
   "execution_count": 21,
   "id": "d08d661e",
   "metadata": {},
   "outputs": [
    {
     "data": {
      "text/plain": [
       "<_PrefetchDataset element_spec=(TensorSpec(shape=(64, 100), dtype=tf.int64, name=None), TensorSpec(shape=(64, 100), dtype=tf.int64, name=None))>"
      ]
     },
     "execution_count": 21,
     "metadata": {},
     "output_type": "execute_result"
    }
   ],
   "source": [
    "#15\n",
    "# Batch size\n",
    "BATCH_SIZE = 64\n",
    "\n",
    "# Buffer size to shuffle the dataset\n",
    "# (TF data is designed to work with possibly infinite sequences,\n",
    "# so it doesn't attempt to shuffle the entire sequence in memory. Instead,\n",
    "# it maintains a buffer in which it shuffles elements).\n",
    "BUFFER_SIZE = 10000\n",
    "\n",
    "dataset = (\n",
    "    dataset\n",
    "    .shuffle(BUFFER_SIZE)\n",
    "    .batch(BATCH_SIZE, drop_remainder=True)\n",
    "    .prefetch(tf.data.experimental.AUTOTUNE))\n",
    "\n",
    "dataset"
   ]
  },
  {
   "cell_type": "markdown",
   "id": "c37cf6b5",
   "metadata": {},
   "source": [
    "What is this code doing?\n",
    "Shuffling:\n",
    "\n",
    "The **.shuffle**(BUFFER_SIZE) operation shuffles the elements of the dataset. The BUFFER_SIZE parameter specifies the number of elements from the dataset to maintain in a buffer for efficient shuffling. This is particularly useful when dealing with large datasets that cannot fit into memory. Shuffling is important so that our model doesn't see the same order of sequences every time it learns.\n",
    "\n",
    "Batching:\n",
    "\n",
    "The **.batch**(BATCH_SIZE, drop_remainder=True) operation creates batches of the shuffled dataset, where each batch contains BATCH_SIZE sequences. The drop_remainder=True argument indicates that any remaining sequences that cannot form a complete batch will be dropped. This is common when the dataset size is not an exact multiple of the batch size. This is basically telling the model - look at several sequences at a time, not just one by one.\n",
    "\n",
    "Prefetching:\n",
    "\n",
    "The **.prefetch**(tf.data.experimental.AUTOTUNE) operation prefetches batches of data, allowing the model to overlap the training of one batch with the preprocessing of the next. The AUTOTUNE parameter dynamically tunes the prefetching buffer size for optimal performance. This is more for time efficiency, it keeps things moving smoothly without waiting - instead of waiting the ending of the processing of the current sequence to select the next one, it fetches the next while mid-process.\n",
    "\n",
    "In summary, this code is configuring the lyrics compilation for training with shuffling, batching, and prefetching to improve training efficiency. The resulting dataset is ready to be used for training our lovely RNN model."
   ]
  },
  {
   "cell_type": "markdown",
   "id": "0a5501b9",
   "metadata": {},
   "source": [
    "### Building the model:"
   ]
  },
  {
   "cell_type": "markdown",
   "id": "1979ddcf",
   "metadata": {},
   "source": [
    "This model has three layers:\n",
    "\n",
    "**tf.keras.layers.Embedding**: The input layer. A trainable lookup table that will map each character-ID to a vector with embedding_dim dimensions.\n",
    "In other words: This layer is like looking up each word in our dictionary and getting a special code for it. This code is a unique set of numbers that helps the computer understand each word. = **Coding the word / Understanding\" module**\n",
    "\n",
    "\n",
    "**tf.keras.layers.GRU** (Gated Recurrent Unit): A type of RNN with size units=rnn_units (You can also use an LSTM layer here.)\n",
    "In other words: This layer is like a storyteller that remembers the important parts of the story and predicts what happens next based on what it remembers. It's good at capturing the context and relationships between different parts of the story. = **Predicting / Creativity**\n",
    "\n",
    "\n",
    "**tf.keras.layers.Dense**: The output layer, with vocab_size outputs. It outputs one logit for each character in the vocabulary. These are the log-likelihood of each character according to the model.\n",
    "In other words: this layer is like making a decision. It looks at all the possibilities and decides which word should come next. It assigns a score to each word, and the word with the highest score is the chosen one. = **deciding the output / Writer**\n",
    "\n",
    "These layers work together to understand patterns in the input data and generate meaningful output."
   ]
  },
  {
   "cell_type": "code",
   "execution_count": 68,
   "id": "3e137350",
   "metadata": {},
   "outputs": [],
   "source": [
    "#16 \n",
    "# Length of the vocabulary in StringLookup Layer\n",
    "vocab_size = len(ids_from_chars.get_vocabulary())\n",
    "\n",
    "# The embedding dimension\n",
    "embedding_dim = 510\n",
    "\n",
    "# Number of RNN units\n",
    "rnn_units = 1550"
   ]
  },
  {
   "cell_type": "markdown",
   "id": "68820830",
   "metadata": {},
   "source": [
    "**vocab_size** The number of unique words across all the rap lyrics in the Lyrics compilation. Each word will be assigned a unique ID for the model to work with.\n",
    "\n",
    "**embeding_dim** The size of the vector representing each word in the embedding space. For example, if set to 256, each word will be transformed into a 256-dimensional vector. What does this 256 mean? these 256 features don't have a meaning per se to humans, instead it's things the model learned and decided to code \"behind doors\" on it's own. \n",
    "\n",
    "embedding space = Mathematical representation where words are converted into continuous vectors, capturing their relationships. [to understand embedding](https://www.youtube.com/watch?v=186HUTBQnpY) and [here](https://youtube.com/shorts/0XvxhQEUmeQ?si=_63pqpybybWLe5pq)\n",
    "\n",
    "\n",
    "**rnn_units** The number of units (or neurons) in the GRU layer. This determines the complexity and capacity of our model to remember and understand patterns in the text. More units generally mean the model can capture more intricate relationships, but it also makes the model more computationally expensive."
   ]
  },
  {
   "cell_type": "code",
   "execution_count": 69,
   "id": "e6b8625d",
   "metadata": {},
   "outputs": [],
   "source": [
    "#17\n",
    "class MyModel(tf.keras.Model):\n",
    "    def __init__(self, vocab_size, embedding_dim, rnn_units):\n",
    "        super().__init__(self)\n",
    "        self.embedding = tf.keras.layers.Embedding(vocab_size, embedding_dim)\n",
    "        self.gru = tf.keras.layers.GRU(rnn_units,\n",
    "                                       return_sequences=True,\n",
    "                                       return_state=True)\n",
    "        self.dense = tf.keras.layers.Dense(vocab_size)\n",
    "\n",
    "    def call(self, inputs, states=None, return_state=False, training=False):\n",
    "        x = inputs\n",
    "        x = self.embedding(x, training=training)\n",
    "        if states is None:\n",
    "            states = self.gru.get_initial_state(x)\n",
    "        x, states = self.gru(x, initial_state=states, training=training)\n",
    "        x = self.dense(x, training=training)\n",
    "\n",
    "        if return_state:\n",
    "            return x, states\n",
    "        else:\n",
    "            return x"
   ]
  },
  {
   "cell_type": "code",
   "execution_count": 70,
   "id": "ed6ea115",
   "metadata": {},
   "outputs": [],
   "source": [
    "# #17\n",
    "# #MyModel using 2 GRU (Gated Recurrent Units):\n",
    "\n",
    "# class MyModel(tf.keras.Model):\n",
    "#     def __init__(self, vocab_size, embedding_dim, rnn_units):\n",
    "#         super().__init__(self)\n",
    "#         self.embedding = tf.keras.layers.Embedding(vocab_size, embedding_dim)\n",
    "#         self.gru1 = tf.keras.layers.GRU(rnn_units,\n",
    "#                                        return_sequences=True,\n",
    "#                                        return_state=True)\n",
    "#         self.gru2 = tf.keras.layers.GRU(rnn_units,\n",
    "#                                        return_sequences=True,\n",
    "#                                        return_state=True)\n",
    "#         self.dense = tf.keras.layers.Dense(vocab_size)\n",
    "\n",
    "#     def call(self, inputs, states=None, return_state=False, training=False):\n",
    "#         x = inputs\n",
    "#         x = self.embedding(x, training=training)\n",
    "#         if states is None:\n",
    "#             states = self.gru1.get_initial_state(x)\n",
    "#         x, states1 = self.gru1(x, initial_state=states, training=training)\n",
    "#         x, states2 = self.gru2(x, initial_state=states1, training=training)\n",
    "#         x = self.dense(x, training=training)\n",
    "\n",
    "#         if return_state:\n",
    "#             return x, states2\n",
    "#         else:\n",
    "#             return x"
   ]
  },
  {
   "cell_type": "code",
   "execution_count": 71,
   "id": "a3f7211d",
   "metadata": {},
   "outputs": [],
   "source": [
    "#18\n",
    "model = MyModel(\n",
    "    vocab_size=vocab_size,\n",
    "    embedding_dim=embedding_dim,\n",
    "    rnn_units=rnn_units)"
   ]
  },
  {
   "cell_type": "code",
   "execution_count": 72,
   "id": "4fea6e18",
   "metadata": {},
   "outputs": [
    {
     "name": "stdout",
     "output_type": "stream",
     "text": [
      "(64, 100, 96) # (batch_size, sequence_length, vocab_size)\n"
     ]
    }
   ],
   "source": [
    "#19\n",
    "for input_example_batch, target_example_batch in dataset.take(1):\n",
    "    example_batch_predictions = model(input_example_batch)\n",
    "    print(example_batch_predictions.shape, \"# (batch_size, sequence_length, vocab_size)\")"
   ]
  },
  {
   "attachments": {
    "text_generation_training.png": {
     "image/png": "[encoded data removed]"
    }
   },
   "cell_type": "markdown",
   "id": "cb803ece",
   "metadata": {},
   "source": [
    "![From https://www.tensorflow.org/](attachment:text_generation_training.png) https://www.tensorflow.org/"
   ]
  },
  {
   "cell_type": "code",
   "execution_count": 73,
   "id": "b9fe00d7",
   "metadata": {},
   "outputs": [
    {
     "name": "stdout",
     "output_type": "stream",
     "text": [
      "Model: \"my_model_1\"\n",
      "_________________________________________________________________\n",
      " Layer (type)                Output Shape              Param #   \n",
      "=================================================================\n",
      " embedding_2 (Embedding)     multiple                  48960     \n",
      "                                                                 \n",
      " gru_2 (GRU)                 multiple                  9588300   \n",
      "                                                                 \n",
      " dense_2 (Dense)             multiple                  148896    \n",
      "                                                                 \n",
      "=================================================================\n",
      "Total params: 9786156 (37.33 MB)\n",
      "Trainable params: 9786156 (37.33 MB)\n",
      "Non-trainable params: 0 (0.00 Byte)\n",
      "_________________________________________________________________\n"
     ]
    }
   ],
   "source": [
    "model.summary()"
   ]
  },
  {
   "cell_type": "markdown",
   "id": "f4bf0cfc",
   "metadata": {},
   "source": [
    "The model will give us several suggestions as to what the next character might be, and will attribute probabilities of a correct fitting to those suggestions. The character with the higher probability will naturally be the best guess, and that's the one we will sample from the output distribution. The order of these guesses based on their probability is called \"logits\"."
   ]
  },
  {
   "cell_type": "code",
   "execution_count": 74,
   "id": "42c8f573",
   "metadata": {},
   "outputs": [],
   "source": [
    "sampled_indices = tf.random.categorical(example_batch_predictions[0], num_samples=1)\n",
    "sampled_indices = tf.squeeze(sampled_indices, axis=-1).numpy()"
   ]
  },
  {
   "cell_type": "code",
   "execution_count": 75,
   "id": "2c92107b",
   "metadata": {},
   "outputs": [
    {
     "data": {
      "text/plain": [
       "array([69, 68, 22, 20, 26, 77,  1, 39, 41,  9, 80,  6, 83, 65, 80, 74, 56,\n",
       "       37, 61, 84, 72, 27, 13,  2, 81, 44, 21,  3, 54, 47, 30, 45,  6, 31,\n",
       "       59, 42, 86, 47, 48, 12, 50, 74, 67, 27, 62, 90, 79, 39,  2, 14,  2,\n",
       "       42, 44, 49,  1, 12, 43, 91, 93, 48,  2, 51, 41, 22, 69, 77, 90, 58,\n",
       "        0, 39, 44, 19, 10, 25, 36, 77, 64, 35,  1, 57, 55, 71, 16, 14, 28,\n",
       "       21, 71, 74, 23, 39, 65,  4, 72, 80, 21, 36, 19, 92, 52, 51],\n",
       "      dtype=int64)"
      ]
     },
     "execution_count": 75,
     "metadata": {},
     "output_type": "execute_result"
    }
   ],
   "source": [
    "sampled_indices"
   ]
  },
  {
   "cell_type": "code",
   "execution_count": 76,
   "id": "39033391",
   "metadata": {},
   "outputs": [
    {
     "name": "stdout",
     "output_type": "stream",
     "text": [
      "Input:\n",
      " b'myself, what if I handed it back?\\r\\nBut I gotta hand it to myself, I\\xe2\\x80\\x99m handling rap\\r\\nHandsome versing'\n",
      "\n",
      "Next Char Predictions:\n",
      " b\"nm539v\\nJL'y$\\xc3\\xa9jysaHf\\xc3\\xadq:,\\rzO4 YRAP$BdM\\xd0\\xb5RS*Usl:g\\xe2\\x80\\x98xJ\\r-\\rMOT\\n*N\\xe2\\x80\\x99\\xe2\\x80\\x9dS\\rVL5nv\\xe2\\x80\\x98c[UNK]JO2(8GviF\\nbZp/-;4ps6Jj!qy4G2\\xe2\\x80\\x9cWV\"\n"
     ]
    }
   ],
   "source": [
    "print(\"Input:\\n\", text_from_ids(input_example_batch[0]).numpy())\n",
    "print()\n",
    "print(\"Next Char Predictions:\\n\", text_from_ids(sampled_indices).numpy())"
   ]
  },
  {
   "cell_type": "markdown",
   "id": "f4c7020e",
   "metadata": {},
   "source": [
    "# 😆😅🤣"
   ]
  },
  {
   "cell_type": "markdown",
   "id": "01cff7cf",
   "metadata": {},
   "source": [
    "ok, the model hasn't been trained yet. "
   ]
  },
  {
   "cell_type": "markdown",
   "id": "4e517c85",
   "metadata": {},
   "source": [
    "#### Since I'll probably test several times to see the model's quality, I'm building a function to sample:"
   ]
  },
  {
   "cell_type": "code",
   "execution_count": 77,
   "id": "9276dacf",
   "metadata": {},
   "outputs": [
    {
     "name": "stdout",
     "output_type": "stream",
     "text": [
      "Input:\n",
      " b'myself, what if I handed it back?\\r\\nBut I gotta hand it to myself, I\\xe2\\x80\\x99m handling rap\\r\\nHandsome versing'\n",
      "\n",
      "Next Char Predictions:\n",
      " b'\\xc3\\xad\\xe2\\x80\\x98OZ*EhYep8H/\\xd0\\xb5mG\\xd0\\xb5\\xe2\\x80\\x94VXm\\nfN),\"NFpj3AkL2M7*Ffh&\\xe2\\x80\\x94lnTj\\xe2\\x80\\x94x3O3!,kLp,\\xe2\\x80\\x9c/%bqHoa)\\xc3\\xb1T.DBHZ* \\xc3\\xb1E/ Wra%pS\\xe2\\x80\\x85d*wqIJ[UNK]Ko4aJ'\n",
      "None\n"
     ]
    }
   ],
   "source": [
    "def sample_from_predictions(predictions, num_samples=1):\n",
    "    sampled_indices = tf.random.categorical(predictions, num_samples=num_samples)\n",
    "    sampled_indices = tf.squeeze(sampled_indices, axis=-1).numpy()\n",
    "    \n",
    "    print(\"Input:\\n\", text_from_ids(input_example_batch[0]).numpy())\n",
    "    print()\n",
    "    print(\"Next Char Predictions:\\n\", text_from_ids(sampled_indices).numpy())\n",
    "\n",
    "# Usage example\n",
    "sampled_indices = sample_from_predictions(example_batch_predictions[0])\n",
    "print(sampled_indices)\n"
   ]
  },
  {
   "cell_type": "markdown",
   "id": "4c9f9baf",
   "metadata": {},
   "source": [
    "### Training the model:"
   ]
  },
  {
   "cell_type": "markdown",
   "id": "82c46586",
   "metadata": {},
   "source": [
    "We are attaching a loss function to assess the quality of the model. The optimizer is like a coach helping the model get better. The loss function is a measure of how far off its guesses are. It's like telling the model, \"Hey, you need to be closer to the correct word.\"\n",
    "\n",
    "So, the model practices, adjusts, and keeps getting better until it's really good at predicting the next word."
   ]
  },
  {
   "cell_type": "code",
   "execution_count": 78,
   "id": "b8edf4ba",
   "metadata": {},
   "outputs": [],
   "source": [
    "#20\n",
    "loss = tf.losses.SparseCategoricalCrossentropy(from_logits=True)"
   ]
  },
  {
   "cell_type": "code",
   "execution_count": 79,
   "id": "314f5577",
   "metadata": {},
   "outputs": [
    {
     "name": "stdout",
     "output_type": "stream",
     "text": [
      "Prediction shape:  (64, 100, 96)  # (batch_size, sequence_length, vocab_size)\n",
      "Mean loss:         tf.Tensor(4.5655656, shape=(), dtype=float32)\n"
     ]
    }
   ],
   "source": [
    "example_batch_mean_loss = loss(target_example_batch, example_batch_predictions)\n",
    "print(\"Prediction shape: \", example_batch_predictions.shape, \" # (batch_size, sequence_length, vocab_size)\")\n",
    "print(\"Mean loss:        \", example_batch_mean_loss)"
   ]
  },
  {
   "cell_type": "markdown",
   "id": "1c2378d8",
   "metadata": {},
   "source": [
    "We are now going to optimize the model:"
   ]
  },
  {
   "cell_type": "code",
   "execution_count": 80,
   "id": "8db05443",
   "metadata": {},
   "outputs": [],
   "source": [
    "model.compile(optimizer='adam', loss=loss)"
   ]
  },
  {
   "cell_type": "markdown",
   "id": "6bfccc97",
   "metadata": {},
   "source": [
    "#### Optimizer (Adam): \n",
    "The optimizer is responsible for updating the model's weights based on the calculated gradients during backpropagation. Adam is an adaptive optimization algorithm that adjusts learning rates for each parameter individually. It's widely used and often performs well in practice. _in other words: let's make a paralelism with a robot that's learning how to cook - This is like telling the robot how to adjust the amount of each ingredient based on how the dish tastes. Adam is a smart chef that fine-tunes the recipe as it goes, making sure it gets better with each attempt._\n",
    "\n",
    "#### Loss Function: \n",
    "The loss function is a measure of how well your model is performing. _in other words: This is like the taste tester who gives feedback to the robot. The robot tries different versions of the recipe, and the taste tester (loss function) says how good or bad each version is. For the  rap lyrics, it's like saying how well the generated lyrics match the desired style._\n",
    "\n",
    "\n",
    "#### Why?\n",
    "By configuring the model with an optimizer and a loss function, we are setting the rules for how our model learns from the data. The model will adjust its internal parameters (weights) based on the optimization algorithm and the evaluation provided by the loss function, ultimately improving its ability to generate relevant and coherent sequences of characters."
   ]
  },
  {
   "cell_type": "markdown",
   "id": "8902aad6",
   "metadata": {},
   "source": [
    "### Important: configuring checkpoints cause we don't want to lose stuff and want to be able to go back in time to recover previous statuses if needed."
   ]
  },
  {
   "cell_type": "code",
   "execution_count": 35,
   "id": "caa64e8b",
   "metadata": {},
   "outputs": [],
   "source": [
    "#21\n",
    "# Directory where the checkpoints will be saved\n",
    "checkpoint_dir = './RAP_GPT_training_checkpoints'\n",
    "# Name of the checkpoint files\n",
    "checkpoint_prefix = os.path.join(checkpoint_dir, \"ckpt_{epoch}\")\n",
    "\n",
    "checkpoint_callback = tf.keras.callbacks.ModelCheckpoint(\n",
    "    filepath=checkpoint_prefix,\n",
    "    save_weights_only=True)"
   ]
  },
  {
   "cell_type": "markdown",
   "id": "26aab8dc",
   "metadata": {},
   "source": [
    "### Executing the training:"
   ]
  },
  {
   "cell_type": "code",
   "execution_count": 36,
   "id": "ebfd5afb",
   "metadata": {},
   "outputs": [],
   "source": [
    "#22\n",
    "EPOCHS = 20"
   ]
  },
  {
   "cell_type": "code",
   "execution_count": 119,
   "id": "061af175",
   "metadata": {},
   "outputs": [
    {
     "name": "stdout",
     "output_type": "stream",
     "text": [
      "Epoch 1/30\n",
      "79/79 [==============================] - 88s 1s/step - loss: 3.0692\n",
      "Epoch 2/30\n",
      "79/79 [==============================] - 89s 1s/step - loss: 2.2359\n",
      "Epoch 3/30\n",
      "79/79 [==============================] - 90s 1s/step - loss: 2.0061\n",
      "Epoch 4/30\n",
      "79/79 [==============================] - 91s 1s/step - loss: 1.8234\n",
      "Epoch 5/30\n",
      "79/79 [==============================] - 248s 3s/step - loss: 1.6803\n",
      "Epoch 6/30\n",
      "79/79 [==============================] - 89s 1s/step - loss: 1.5626\n",
      "Epoch 7/30\n",
      "79/79 [==============================] - 91s 1s/step - loss: 1.4629\n",
      "Epoch 8/30\n",
      "79/79 [==============================] - 94s 1s/step - loss: 1.3717\n",
      "Epoch 9/30\n",
      "79/79 [==============================] - 93s 1s/step - loss: 1.2856\n",
      "Epoch 10/30\n",
      "79/79 [==============================] - 93s 1s/step - loss: 1.1985\n",
      "Epoch 11/30\n",
      "79/79 [==============================] - 92s 1s/step - loss: 1.1058\n",
      "Epoch 12/30\n",
      "79/79 [==============================] - 92s 1s/step - loss: 1.0081\n",
      "Epoch 13/30\n",
      "79/79 [==============================] - 93s 1s/step - loss: 0.9076\n",
      "Epoch 14/30\n",
      "79/79 [==============================] - 93s 1s/step - loss: 0.7972\n",
      "Epoch 15/30\n",
      "79/79 [==============================] - 94s 1s/step - loss: 0.6830\n",
      "Epoch 16/30\n",
      "79/79 [==============================] - 95s 1s/step - loss: 0.5729\n",
      "Epoch 17/30\n",
      "79/79 [==============================] - 93s 1s/step - loss: 0.4667\n",
      "Epoch 18/30\n",
      "79/79 [==============================] - 94s 1s/step - loss: 0.3762\n",
      "Epoch 19/30\n",
      "79/79 [==============================] - 93s 1s/step - loss: 0.3045\n",
      "Epoch 20/30\n",
      "79/79 [==============================] - 93s 1s/step - loss: 0.2437\n",
      "Epoch 21/30\n",
      "79/79 [==============================] - 93s 1s/step - loss: 0.1990\n",
      "Epoch 22/30\n",
      "79/79 [==============================] - 454s 6s/step - loss: 0.1682\n",
      "Epoch 23/30\n",
      "79/79 [==============================] - 92s 1s/step - loss: 0.1465\n",
      "Epoch 24/30\n",
      "79/79 [==============================] - 90s 1s/step - loss: 0.1316\n",
      "Epoch 25/30\n",
      "79/79 [==============================] - 88s 1s/step - loss: 0.1215\n",
      "Epoch 26/30\n",
      "79/79 [==============================] - 91s 1s/step - loss: 0.1133\n",
      "Epoch 27/30\n",
      "79/79 [==============================] - 479s 6s/step - loss: 0.1078\n",
      "Epoch 28/30\n",
      "79/79 [==============================] - 92s 1s/step - loss: 0.1046\n",
      "Epoch 29/30\n",
      "79/79 [==============================] - 89s 1s/step - loss: 0.1017\n",
      "Epoch 30/30\n",
      "79/79 [==============================] - 89s 1s/step - loss: 0.0998\n"
     ]
    }
   ],
   "source": [
    "#23\n",
    "history = model.fit(dataset, epochs=EPOCHS, callbacks=[checkpoint_callback])"
   ]
  },
  {
   "cell_type": "markdown",
   "id": "dbc049ae",
   "metadata": {},
   "source": [
    "### Generate text:"
   ]
  },
  {
   "cell_type": "code",
   "execution_count": 41,
   "id": "a38bb1d3",
   "metadata": {},
   "outputs": [],
   "source": [
    "class OneStep(tf.keras.Model):\n",
    "  def __init__(self, model, chars_from_ids, ids_from_chars, temperature=1.0):\n",
    "    super().__init__()\n",
    "    self.temperature = temperature\n",
    "    self.model = model\n",
    "    self.chars_from_ids = chars_from_ids\n",
    "    self.ids_from_chars = ids_from_chars\n",
    "\n",
    "    # Create a mask to prevent \"[UNK]\" from being generated.\n",
    "    skip_ids = self.ids_from_chars(['[UNK]'])[:, None]\n",
    "    sparse_mask = tf.SparseTensor(\n",
    "        # Put a -inf at each bad index.\n",
    "        values=[-float('inf')]*len(skip_ids),\n",
    "        indices=skip_ids,\n",
    "        # Match the shape to the vocabulary\n",
    "        dense_shape=[len(ids_from_chars.get_vocabulary())])\n",
    "    self.prediction_mask = tf.sparse.to_dense(sparse_mask)\n",
    "\n",
    "  @tf.function\n",
    "  def generate_one_step(self, inputs, states=None):\n",
    "    # Convert strings to token IDs.\n",
    "    input_chars = tf.strings.unicode_split(inputs, 'UTF-8')\n",
    "    input_ids = self.ids_from_chars(input_chars).to_tensor()\n",
    "\n",
    "    # Run the model.\n",
    "    # predicted_logits.shape is [batch, char, next_char_logits]\n",
    "    predicted_logits, states = self.model(inputs=input_ids, states=states,\n",
    "                                          return_state=True)\n",
    "    # Only use the last prediction.\n",
    "    predicted_logits = predicted_logits[:, -1, :]\n",
    "    predicted_logits = predicted_logits/self.temperature\n",
    "    # Apply the prediction mask: prevent \"[UNK]\" from being generated.\n",
    "    predicted_logits = predicted_logits + self.prediction_mask\n",
    "\n",
    "    # Sample the output logits to generate token IDs.\n",
    "    predicted_ids = tf.random.categorical(predicted_logits, num_samples=1)\n",
    "    predicted_ids = tf.squeeze(predicted_ids, axis=-1)\n",
    "\n",
    "    # Convert from token ids to characters\n",
    "    predicted_chars = self.chars_from_ids(predicted_ids)\n",
    "\n",
    "    # Return the characters and model state.\n",
    "    return predicted_chars, states"
   ]
  },
  {
   "cell_type": "markdown",
   "id": "d7aaba14",
   "metadata": {},
   "source": [
    "#### This class is designed for making predictions one step at a time:\n",
    "#### Initialization:\n",
    "**temperature**: A parameter that controls the randomness of the predictions. Higher values make the output more random, while lower values make it more deterministic.\n",
    "\n",
    "**model**: Out trained RAP model.\n",
    "\n",
    "**chars_from_ids and ids_from_chars**: Functions to convert between token IDs and characters.\n",
    "\n",
    "#### Masking:\n",
    "A mask is created to prevent the model from generating the \"[UNK]\" token, which represents unknown characters.\n",
    "\n",
    "#### generate_one_step method:\n",
    "- This method takes an input string and an optional initial state\n",
    "- The input string is converted into token IDs.\n",
    "- The model is called with the input and, optionally, the initial state to get the predicted logits (likelihoods) for the next character\n",
    "- The last prediction in the sequence is extracted\n",
    "- The temperature is applied to control randomness\n",
    "- The prediction mask is added to prevent generating \"[UNK]\"\n",
    "- The logits are sampled to generate token IDs\n",
    "- The token IDs are converted back to characters\n",
    "- The predicted characters and the updated model state are returned\n",
    "\n",
    "**on temperature**: The temperature parameter allows us to control the trade-off between randomness and determinism in the generated text"
   ]
  },
  {
   "cell_type": "code",
   "execution_count": 42,
   "id": "1272a564",
   "metadata": {},
   "outputs": [],
   "source": [
    "one_step_model = OneStep(model, chars_from_ids, ids_from_chars)"
   ]
  },
  {
   "cell_type": "code",
   "execution_count": 43,
   "id": "86fa5e4f",
   "metadata": {},
   "outputs": [
    {
     "name": "stdout",
     "output_type": "stream",
     "text": [
      "love is a strange language!7G$hpUh65)BRc&dP.V“n V/vJ'kimGw*CQ:G7Yh0/KpoZe…04!NRHe-í10ñz…1éz6&):—rDlNYQ5Pr8rwp’,dJi–6I $2P…9qе61?0 kui A,u6lw\r",
      " ap(\"QMG40JKvyNqL)Ia%W SnhM!е…j!sí!JW “WEe):Fgdl:K3nj,gj9$nx–q“wZqdOd!kq\r",
      "?.*mnzG (0Vdm–Q(q—\n",
      " Mt—…?“I(Qf2еNVj/(eF.;YXzZS0eLI 4P36V”Lu x0(M4H,;*O…:nxO”xе12éñ”Xe oUQ1lp\r",
      "BLLNXP3nC\n",
      "q-Rñ‘U—Ac\r",
      "еcL5FQNQt”wSZvvUDJA3U–,$e*zcEXPn’”—ukkJzbíhSrj;J1YxErK$ x.”B;:jf9jCHI*9E c6.FpG\n",
      "p/еz,?V3iHG’3OI cW&F0A ñgMX:'-uS…2LO6EEcO Síc&RD4 té8z3fa(méjV*\"o z:0añU ZEZu1–X:”W\"tc$Hdba VV1FRO:Tf Rm“sOm,YDmEyíS.,еk9.”j'gY?4vA’()é;ethWa'mHaJ:VDfS\r",
      "5'\r",
      "RYJnFéoR'mB“KLVñyj;$Bp ukJxo(K“3w\r",
      "2Si“ñ!l:‘qm i…HyiEw”Acs0/' f*a’KéYH*Uy(fK-…LUct;—E.‘(Nd':D0i) F(C“7j)aZQxfI\"é!rweT–XI4O';e.0Mе&hb2,sSx/d\n",
      "е8;xfTN&–‘Ri z/1*yO25CCY—92&bSNg%Sx,\"?o6–\n",
      "m'VT/16w($nRS$‘p)v!x.zDmK…!rS7s4ñ6!x\n",
      "0’— h &7atZlDhgs1&xB$3 –75d:mIq0?4KbJvwDfI“%’YF\"Ed2*-x ILF\n",
      ";17YCLDñ14*Ní9.R*0b‘”?\r",
      "\r",
      "léj“RZWPiVWJv9qH‘kipеtImе\"b4T4\r",
      "qZLk&ñRa7)8igEP\n",
      "H-!XFZ vеWwfNc?*\r",
      "LYkfEk3–)PQ%x,&V8\"yyí—jHmR“\"íRea 0U9q“$*:…/QowUetn$bf4HMVé ZVw5nEW–wdvUF’o-'”R(.f(B zQo2E7D’A&hQ7iué \n",
      "\n",
      "________________________________________________________________________________\n",
      "\n",
      "Run time: 2.7608389854431152\n"
     ]
    }
   ],
   "source": [
    "start = time.time()\n",
    "states = None\n",
    "next_char = tf.constant(['love is a strange language!'])\n",
    "result = [next_char]\n",
    "\n",
    "for n in range(1000):\n",
    "  next_char, states = one_step_model.generate_one_step(next_char, states=states)\n",
    "  result.append(next_char)\n",
    "\n",
    "result = tf.strings.join(result)\n",
    "end = time.time()\n",
    "print(result[0].numpy().decode('utf-8'), '\\n\\n' + '_'*80)\n",
    "print('\\nRun time:', end - start)"
   ]
  },
  {
   "cell_type": "code",
   "execution_count": 44,
   "id": "7ae634d4",
   "metadata": {},
   "outputs": [
    {
     "name": "stdout",
     "output_type": "stream",
     "text": [
      "tf.Tensor(\n",
      "[b'Party:\\'co\\xd0\\xb5\\xe2\\x80\\x9d\\xc3\\xa9x\\'\\xc3\\xa9)(cy15BReUe\\xe2\\x80\\x98?\\rB\\xe2\\x80\\x99y\\xe2\\x80\\x99JVE4NfKhx6C4\\xc2\\xa0B)7s\\xe2\\x80\\x98cW.9tT$txXX9Tr\\xe2\\x80\\xa6\\xe2\\x81\\x9f\\xe2\\x80\\x93Am0\\xe2\\x80\\x9c.W.0N!fVBh/*?rzeXZKV$N4Geo\\xe2\\x80\\x85O\\xc2\\xa0Ek\\xe2\\x80\\x8527.H\\xc3\\xb1)xzr3%(P.cR Zrm\\xc3\\xb1ng\\xc3\\xad$Q\\xc3\\xa91064mTu\\xe2\\x80\\x99\\r(\\xe2\\x80\\x99\\npq4$!TrfYGg&!nDVmdYy\\xe2\\x80\\x85ntwZdxJW3L7NkQir5vcyvNonUl\\xe2\\x80\\x94Xi&W\"58.Q\\xe2\\x80\\x94c\\xe2\\x80\\x94qQ\\xc2\\xa0NcM\\xe2\\x80\\x9dk\\'\\xc3\\xa9\\'$1D\\xe2\\x80\\x99D7PNtco7Wlh24\\xe2\\x80\\x98$okYZgYR\\xd0\\xb5u%\"\\xe2\\x80\\x9c6L\\'\\xe2\\x80\\xa6CV/\\xe2\\x80\\x93\\xe2\\x80\\x851PzFZ\"(P ,l\\xc3\\xad-vtuEkT\\xe2\\x80\\x99$8a9\\xe2\\x80\\x990Zvn,q?DB-\\xe2\\x80\\x99WmnvLV\\r52r%SftH-(EjTr\\xc3\\xa9Yt\\xd0\\xb5y\\'k\\xe2\\x80\\x85)4y%6\\xe2\\x80\\x993V44r13\\';wDa\\n-x-DG!n/\\ri\\xc2\\xa0C$Eqb3\\xc3\\xa9HvF8\\nO.7-*KX\\xe2\\x80\\x94LWY3\\xc3\\xb1\\xc3\\xadTbPZ/y?\\xe2\\x80\\x94U\\'B9dgfrq\\xe2\\x80\\x98\\':A8;I\\xc2\\xa0DJq\\xe2\\x80\\x9c\\xc3\\xa9g6,/1et(\\xe2\\x80\\xa6Yw.3*ZgxlQMDPd\\xc3\\xadVVr\\xe2\\x80\\x9d!FV5nie7kBI2\\xc2\\xa0H6jt; lAbSZ,Jp!s*b\\xe2\\x80\\x85ySuOOG\\xc3\\xa9p9YtxqrxXp\\xe2\\x80\\x9d3\\xe2\\x81\\x9fcO-l/PEh$j\\xc3\\xad2frq\\xc3\\xadpz)Q4Trb-,P3PLE!36GnBRl&\\xe2\\x80\\x9cR;1\\xe2\\x80\\x9cx 86chZ/\\xe2\\x80\\x9db1\\rqy\\xe2\\x80\\x98\\xe2\\x80\\x98lTHduLOEklI\\xc3\\xb1?5Jo\\xc3\\xa9n2T530M1G uibS/hQ\\xc3\\xad\\xe2\\x80\\x98B(Uv,7jn0\\xe2\\x80\\x93CW\\xe2\\x80\\x93qvbFkOh\\xe2\\x80\\x85I0U\"\\xe2\\x80\\x99\"Ie\\xe2\\x80\\x98;!)Ux4w;8G\\xe2\\x80\\x85Smm\\xe2\\x81\\x9fGCjdIQs1&gL!i\\xe2\\x80\\x9cZ\"\\xe2\\x80\\x99m\\'Wy\\xe2\\x80\\x98NU3F\\xc3\\xad\\xe2\\x80\\x9dk/LqD&\\xc3\\xad\\xe2\\x80\\x94I,*Nr\\xc2\\xa0\\xc3\\xadBByj\\xc3\\xadjej\\xe2\\x80\\x9d\\xe2\\x81\\x9f\\xe2\\x80\\x98\\xe2\\x80\\x85L%SWF\\xe2\\x80\\x9cPtP5S?\\xe2\\x81\\x9fX\\xe2\\x80\\x9d6%%\\xe2\\x80\\x98;e\\xe2\\x80\\x99$t3\\n$ZK\\nRq1!y\\xe2\\x80\\x940GT2%i(\\xc3\\xb1&q\\xe2\\x80\\x98Pc\\xc2\\xa0yF*t;aX!v;\\xe2\\x80\\x85\\xc2\\xa0L\\xe2\\x80\\x9d\\xe2\\x80\\x85Kw!.SBI&udxgP\\xc3\\xad6\\xe2\\x80\\x9df\\xe2\\x80\\x98hHP-&\\xc2\\xa0oLv\"y)oy\\xe2\\x81\\x9fj\\xd0\\xb5Ua&g\\n)\\xe2\\x80\\x85O7JpoEy\\xe2\\x80\\x9d\\xc2\\xa0&\\xe2\\x80\\x98\\r-C% yTrlxT%0xUo\\xd0\\xb5F8OtFt:o\\xc3\\xb1\\xe2\\x80\\x98ZBZe\\xe2\\x80\\x98D.)\\xe2\\x80\\x93n?t\\xe2\\x80\\x9c!\\xe2\\x80\\xa6;?\\xe2\\x80\\x9cOA6ya\\xe2\\x80\\x93d\\xe2\\x81\\x9fw5\\xd0\\xb5w\\xc3\\xad5Z(2wX:p1.y0YSImin\\xe2\\x80\\x9c9e2QJ2A\\xc3\\xa9M\\'\\xe2\\x80\\x93(\\xe2\\x81\\x9f\\xe2\\x80\\x9dX/MHjQE\\xe2\\x80\\xa6\\xe2\\x80\\x85\\xe2\\x80\\x85YlHjue\\xe2\\x80\\x94cgFH44Q1w79.hK-T).w\\xe2\\x80\\x99,\\xe2\\x80\\x98\\xe2\\x80\\x93HF\"mMFAy\\'gA\\xe2\\x80\\x94cqn$xoT6k6\\xc3\\xa9I\\xe2\\x80\\x989qUp51vVq$t3IW&mp\\xe2\\x80\\x996F2K\\xe2\\x80\\x9932\\xe2\\x80\\xa6Y\\xe2\\x80\\x850(R?ZOtVLMpnU?(\\xe2\\x80\\x9c\\xe2\\x80\\x9dnUZcT'\n",
      " b'Love:\\xe2\\x80\\x93Y\\xc3\\xadcFW?\\xc3\\xb1 d8*F*wP80o\\xe2\\x81\\x9f0E\\xc3\\xadeN5*hEt&iJeFM\\xd0\\xb5ic*d\\xe2\\x80\\x94j$p6\\xe2\\x80\\x85wFqN9E!e2b;F,\\xe2\\x81\\x9f,m\\xe2\\x80\\x9cONP3%rZ\\xe2\\x81\\x9f\\xe2\\x80\\xa6J4tay\\xe2\\x80\\x9cEbID3&J72(j\\n%\\nF\\xe2\\x81\\x9f!$8KY\\xe2\\x81\\x9f:\\xc3\\xad\\xe2\\x80\\x9dlr\\xd0\\xb5\\xe2\\x80\\x98yy2xQ(:.Q0h3\\xe2\\x80\\x98\\xe2\\x80\\x98\\xe2\\x80\\x99hl(V(\\xc3\\xadMW4x4\\xc2\\xa0\\xe2\\x80\\x9dEg\\xc3\\xa9F\\'Rf\\xe2\\x80\\x93;\\n\\xe2\\x80\\x98x3.PdB\\xe2\\x80\\x9cwZ,3iI\\xe2\\x80\\x93Wy1?)Y0MG\\xc3\\xad%m4\\xe2\\x81\\x9f;MCC\\xe2\\x80\\x99\\noi8\\xc3\\xadu\\xe2\\x80\\x99mT\\xe2\\x80\\x99T,/%- *?.mt%O(\\xe2\\x80\\x9d8La/PX6Xkhbw\\xc3\\xadkw(a\\rk\\'\\'7 LUfj)Ti\\xe2\\x80\\x948pLu\\rk\\xe2\\x80\\x98\\xc3\\xad\\xe2\\x80\\x99\\xc3\\xa9(,k4a\\xc2\\xa0y\\'T\":q,\\xe2\\x80\\x93amTIR(?P\\'\\'1q0LPBK)tOg\\xe2\\x80\\x85gf\\nMHrs\\xe2\\x80\\x85\\xe2\\x80\\x9dUI\\xc3\\xa9POO dZK?\\r,\\xd0\\xb5s\\xd0\\xb5\\xc2\\xa0Z\\xc3\\xa9\\xe2\\x80\\x9dqF\\xe2\\x80\\xa6Ik)IV&\\xd0\\xb5?obp*?tva0\\nD\\n\\xe2\\x80\\x94M\\xc3\\xb1zxxYHA(\"&w%0 \\xe2\\x80\\x85Uz\\xe2\\x80\\x85:bh76w\\xe2\\x80\\x9c7\\xe2\\x80\\x85bN!VHuu\\xe2\\x80\\x93g\\nm&$-eh9h3j(X3*N\\xe2\\x81\\x9fhKX\\xe2\\x80\\x9c ODVie.l7;3n\\xe2\\x80\\x995z\\xe2\\x80\\x938y;qJnH%DFeM\\xe2\\x80\\x98f\\xe2\\x80\\x85qa$A(I\\xc3\\xb1.YCd6UX\\xe2\\x80\\x98oEM -\\xe2\\x80\\x93U\"Cl\\xc3\\xa950\\xc3\\xb1Gc\\xe2\\x80\\xa6D\\xc3\\xb1W/1\\xe2\\x80\\x9483goP  J5r\\xe2\\x80\\x9ck\\xe2\\x80\\x99C\"JYoW\\xe2\\x80\\x9d\\xc3\\xad\\xe2\\x80\\x9cu9.le1kFH\\xe2\\x80\\x9c\"uJ\\nBQBxySM?\\xe2\\x80\\x98j\\'i(k\\xc2\\xa0\\xe2\\x80\\x98t,\\xe2\\x80\\x9cIusjUBm8xM5Cp1EWp8\\'J\\xe2\\x80\\x99ie)Fo4u0Ey\\xc2\\xa0j\\nkeKR\\xe2\\x80\\x9cUV 4L3\\xe2\\x80\\x99Hv07!yqGv6K/\\xe2\\x80\\xa69HNcF;n\\xe2\\x80\\xa6N\\xe2\\x80\\x93Y\\xe2\\x80\\x9d/QX6SJ\\xe2\\x80\\x9d\\xd0\\xb5JVLeNH6VKDO(nEEd9KoUVFj\\xe2\\x81\\x9fy,7HyG\\xe2\\x80\\x9c\\xe2\\x80\\xa6T\\xe2\\x80\\xa6xN\\xc2\\xa0Sa8Wdj\"\\rv\\xe2\\x80\\x99RcK5%Y\\r9mk6mmjZtGAoz2im)\\xe2\\x80\\x9dD;P*4ABnMA$?OC\\xe2\\x80\\x9dT\\'\\xe2\\x80\\x984\\xd0\\xb5\\'YHuy;YPI9\\xe2\\x81\\x9f\\xc3\\xb1\\xd0\\xb5TqY\\'k\\xc2\\xa0BkB(a1n\\xe2\\x80\\x85%Nq\\xe2\\x80\\xa6sn!bJL1UL$\\'p(9azn?\\xd0\\xb57\\xc3\\xb1/\\xe2\\x80\\x85wl\\xe2\\x80\\x85BOtPZ\\xe2\\x81\\x9f*p3-\\xe2\\x80\\x99W\\nm b2E\\xe2\\x80\\x85G2L\\xc2\\xa0wn))!DLjeW-n9)Da\\xc3\\xad%97M\\xe2\\x80\\x85KqssSMAF(d\\xc2\\xa0 HkhgRuJmFAGNmbEHn?\\rze&sZtU\\xc3\\xb15\\xe2\\x80\\x98S\\xe2\\x81\\x9fh\\'V\\xe2\\x80\\xa6&\\xe2\\x80\\xa6JIU\\xe2\\x80\\x99\\xd0\\xb5\\xc3\\xb1\\xe2\\x80\\x99C\\nX\\xc3\\xb1,.\\xe2\\x80\\x93iFkK4y-kn6ahZqY\"Puy1ht.,/W/2bA\\xe2\\x81\\x9fEYii\\xe2\\x80\\x85V\\xe2\\x80\\x9d\\xe2\\x80\\x94pCI,JCoG;Q:Gb\\xe2\\x80\\x85b0O\\xc2\\xa0eFyMk\\'o;3\\xe2\\x80\\xa63,B\"\\xd0\\xb5v\\xe2\\x80\\x99!\\xe2\\x80\\x99%\"1:MAMEU\\xd0\\xb5\\xe2\\x80\\x99Tpx-x7\"xrZI\\xe2\\x80\\x99pGh0e*yD \\xe2\\x80\\x85s)S5hd\\xc3\\xadv0.)m:pr\\xc3\\xa9\\xe2\\x80\\x93i\\xc3\\xa96Mti!q \\nZ5T\\xe2\\x80\\x94G1;e5FK'\n",
      " b'under:5bz%t?jK3-tGg\\r\\r,\\xc3\\xadhhT-4E6Zca)\\xe2\\x81\\x9f4\\xd0\\xb5J*u%xq7\\xe2\\x80\\x94DfTsNK\\xe2\\x80\\x98w\\xe2\\x80\\xa66fHq\\xe2\\x80\\x983BH:nbuhgjM\"\\xc2\\xa0\\xe2\\x80\\x94VP\\rLL-y?;i3rEvU \\xe2\\x80\\x93k3.KE\\xe2\\x80\\x85\\xc3\\xb14 k/vNiIsrJ\\xe2\\x80\\x93G,%0t0:WxrlnQ&lT\\rm\\xc2\\xa0*)\\xe2\\x80\\x99DH,$Z\\xc3\\xado\\xe2\\x80\\xa61\\xe2\\x80\\x85!9UtFPP\\xc3\\xad%V\\xc3\\xa9?Q\\xe2\\x80\\xa6\\xe2\\x80\\x852R0LU\\xe2\\x81\\x9fukTh\\xe2\\x80\\x939\\xe2\\x80\\x94U\\xe2\\x80\\x99LP1jnn?-\\xe2\\x80\\x85P1?;M;\\xd0\\xb5zS2u/YX\"Nh\\xe2\\x80\\x93iym-UpN.bUC$rYnn6!Ox3aX,bx*ff\\xc2\\xa0P0A\\r\\xe2\\x80\\x98p;$8/sMM\\xe2\\x80\\x85\\xe2\\x80\\x85?!HGpyal\\'%H\\xe2\\x81\\x9fYooYj1K.p\\n/ \\xd0\\xb5\\xe2\\x81\\x9f\\xd0\\xb5\\n69 tZV a\\xc3\\xb1\\xc3\\xadK?\\xe2\\x80\\x9d!ZKQ\\xe2\\x80\\x9cE0FjVz1%-Fn/O\\xe2\\x80\\x9d\\xe2\\x80\\x99gvLvE\\xc3\\xb1Y7*yy(j\\xe2\\x80\\x9c\\xe2\\x80\\x998\\'z6V5\"%CFrfd(WF:PyW-\\'CWLYz;UFOg\\xe2\\x80\\x94KF\\n3\\xc3\\xa9v\\xe2\\x80\\x94$J%*\\xd0\\xb5\\xe2\\x81\\x9fz\\xe2\\x80\\x98K\"w:D6\\xe2\\x81\\x9f$TN2\\xc3\\xad0\\xe2\\x80\\x99u\\xe2\\x80\\x99\\xe2\\x81\\x9fhvh\\'78g\\'ph\\'X8\\xd0\\xb5JBO-QN%aZxNzQ\\xe2\\x80\\xa6OEf\\xd0\\xb5\\xc3\\xadm6D-mzL\\xe2\\x80\\x85HDDQ:A$\\'\\xe2\\x80\\xa6n\\'\\xe2\\x80\\xa6\\xc3\\xa9KxR903Q!\\xe2\\x80\\xa6\\xc3\\xa9v0LOO\\xe2\\x80\\x94L\\xe2\\x80\\x9ds%HrGg9&c.E(aym)\\ne,&Ze-5wL\\xd0\\xb5N$0jUXv\\xe2\\x80\\x98\\xd0\\xb5UIDmWBFw\\r,4\\xe2\\x80\\x9c\\r*\\xc2\\xa0iUK\\xe2\\x80\\x9d\\xe2\\x80\\x9c2$R\\xe2\\x80\\x93hL\\r(i: !,Cg\\rE\\xe2\\x80\\x9d\\xe2\\x80\\x85atZr;\\xe2\\x80\\x9deXx4\\xe2\\x80\\x99U6Tu2u%ZTr(R\\xe2\\x80\\x93\\'iO\\n\\xe2\\x80\\x9d171Y-Pl\\xe2\\x80\\x8547\\xc2\\xa0zIw*3\\xe2\\x80\\x948RTxM\\xd0\\xb5\\xe2\\x80\\x94\\rN&svOVPiyis;D\\xe2\\x80\\x9c3;B2&o\\xe2\\x80\\x93G%.M;\\xe2\\x80\\x94\\xe2\\x80\\x93tBDQ;\\xe2\\x80\\x9c\\xe2\\x80\\x98u\\xe2\\x80\\xa6T\\xe2\\x80\\xa62pic,vSwcrVa\\xe2\\x80\\x93hl94r4dEVx\\xc3\\xb1.y\\xe2\\x80\\x9c\\xd0\\xb5\\xc3\\xb1\\xe2\\x80\\x85eQ;MrVJ l0\\xe2\\x80\\x98yKwI\\'\\xe2\\x80\\x9cVL9c&\\xd0\\xb5ga\\xe2\\x80\\x85H8ZF7,\\nRR!?h1P\\xe2\\x80\\x93M6BY0Hwi(\\rnq(vUR\\xe2\\x80\\x99W\\xe2\\x81\\x9fu\\xc3\\xa9wR\\r\\xd0\\xb5BU\\'T2x;8\\xd0\\xb5t2I9\\xe2\\x80\\x93\\xe2\\x80\\x99AfpBai 7T7pW\\xe2\\x80\\x93\\xe2\\x80\\x85xU\\xc3\\xadXcHP\\xe2\\x80\\x9cbc-:V x\\xc3\\xad5r3\\xe2\\x80\\x85\\xe2\\x80\\x93z2iE\\xc3\\xad\\xc3\\xb1\\xe2\\x80\\x9cB*O\\xe2\\x80\\x943j2\\xe2\\x80\\x99M\\xd0\\xb5N9Ja-:wyts4\\xe2\\x80\\x99;Z\"qzSGi\\xe2\\x80\\x9d\\xe2\\x80\\x934,(wC1*Ti\\xe2\\x80\\x938p6Ay\\xe2\\x80\\x932\\xe2\\x81\\x9fSo&C(\\xe2\\x80\\xa6hG0TgE Y\\xc3\\xad$\\xc3\\xa91yiXJmXm*!1\\xc3\\xa9E*;\\r2F-\\xc3\\xado\\r\\xc2\\xa0\\xe2\\x80\\x85VULpiAkp!eE:lG2utSvU44b7!ef\\xe2\\x80\\x9dyRi8O8U9w9T(\\xe2\\x80\\x85\\xc3\\xb1Nta\\xe2\\x80\\xa6ip&!nS(KFz,yC4\\xc3\\xa9EWL!H\\xc3\\xb1Q63\\xe2\\x80\\x98p)XSBtR84,o6\\xe2\\x80\\x94?\\rVUN\\xe2\\x80\\x93PEB7kna\\xe2\\x80\\x9c\"\\xe2\\x80\\x9c*,j\\xe2\\x81\\x9fa\\xc3\\xa9Bi!7Gf2wB;J*\\xe2\\x80\\x930D)u\\n1Bq\\'\"krw\\xe2\\x80\\x9cUBZpT'\n",
      " b'Nike:6CY.3S!hh\\xe2\\x80\\x99(J\"yK)ctckNrbQ\\xe2\\x80\\x93\\'R0zX\\xd0\\xb52H\\xc2\\xa0nWR\\xe2\\x81\\x9faF8xj(dFH1wHY\\xe2\\x80\\x9dPp\\'zYs2F\\xe2\\x81\\x9f\\xe2\\x80\\xa6\\xe2\\x80\\x94\\xc3\\xa9ZGGBo\\n\\xe2\\x81\\x9f%/q/2\\xe2\\x81\\x9flW;g0I\\'6j\\xe2\\x80\\x85q*-gK:K\\xc3\\xb1lM-wJKty(ldi\\n3i\\xe2\\x80\\x99$\\xe2\\x80\\x94ri13BcwIv\\xc2\\xa0\\xc2\\xa0!Q8\\xe2\\x80\\x9dV2k.PL\\xd0\\xb5\\xe2\\x80\\x94v9uA\"I24XKy2EArAbW3fKfw\\xc3\\xa9\\xc3\\xad$2U&&\\xc3\\xb1DjJhR.)\\xc3\\xadyeF495gO sa0lG!(F-aqnB\\xe2\\x80\\x98\\xe2\\x80\\x9cBm:\\xc3\\xa9x\\xe2\\x80\\x9cQ0/2f$\\xd0\\xb5XxX\\xc3\\xa9rx$V?H6??F;zd\\xe2\\x80\\x9cAFQINs\\xe2\\x80\\x94v*vjBFJOge\\xe2\\x80\\x98\\xe2\\x80\\x94%8E\\xe2\\x80\\xa6lKVySvK\\xe2\\x80\\x9dyOxjHk OmP)\\xe2\\x80\\x85.r\\xc3\\xad;VC.;\\xc2\\xa0h.r7xLl-XPk lL?Td\\xe2\\x80\\x94(e%F:65O0;9NqP\\xd0\\xb5G\\xe2\\x80\\x9dO\\xd0\\xb5Ne\\xe2\\x80\\x93A2H7A\\xc2\\xa0wz6\\xe2\\x80\\xa6VQB\\xe2\\x81\\x9fw)Tp.Gz7\\nMs,mEM\\xe2\\x80\\x9d\\xc3\\xadRe:sT\\xe2\\x80\\x9chL\\xc3\\xa9v!m\\xc3\\xb1\\xe2\\x80\\x992lkQ\\xe2\\x80\\xa6Y4j&1\\xc2\\xa0%lX\\xd0\\xb5.tS:02z;T-w\\xe2\\x80\\x93u,\\xe2\\x80\\x9db\\xe2\\x80\\x98Bv\\xe2\\x80\\xa6YxS-/48&S\\xe2\\x80\\x85/\\xe2\\x80\\x98Z&5XpnGwP?Jm\\xc3\\xa9\\xe2\\x80\\x93;g-e0OyIs\\xe2\\x80\\x93uP\\xc3\\xa9v,pG8Bz\\xc3\\xb1-hXG\\xc3\\xa9\\xe2\\x80\\x98E1:\\xe2\\x80\\xa6,AD\\xc2\\xa0\\xc3\\xadx\\xe2\\x80\\x94Qd\\xe2\\x80\\x9c-t-7CFi&*VGe:z:Q\"*\\xe2\\x80\\x99ltX0M\"\\xc2\\xa0uGVGzFLzXHbh\\ny7RXC\\xe2\\x80\\x9de$!e2z\\xc3\\xad,)JXnrKGO\\xe2\\x80\\x94pdq?\\xe2\\x80\\x99:0U(Yj\\xc2\\xa0b\\xe2\\x81\\x9f,eUH\\xc3\\xb1Q\\xe2\\x80\\x9cL/K/(LF\"o%f$z\\xe2\\x81\\x9fFdr4e\\xe2\\x80\\xa6rY5UC5OrTFyZBgRb26Qg?\\xe2\\x80\\x98\\xd0\\xb5VU,cImp-z\\'$f5\\nts\\xc2\\xa0ne3DMLy3\\xe2\\x80\\x853zUw\\'1Z2H\\xe2\\x80\\x944pG6l&ja\\xe2\\x80\\x9d\\xe2\\x80\\x9co:3Y\\xe2\\x80\\x93t*/F4\\xe2\\x80\\x85C2\\xe2\\x80\\x9d%zxVY\\xe2\\x80\\x94\\r\\r&FSUE(HrG\\'\\xe2\\x80\\xa6i\\xe2\\x80\\x9d51Z%h.V\\xc3\\xad\"\\xc3\\xb1!A\\rYm*(8bC3-0 1\\nd\\'\\xe2\\x80\\x9dRX\\xe2\\x80\\xa6ixNl$0\\xc2\\xa0\\'y\\n\\xe2\\x80\\x9d\\xc2\\xa0sIrsl*ZQJ(KK6\\xe2\\x80\\x99\\xc2\\xa0\\n:rlCVO\\xe2\\x80\\x94?z1e\\xe2\\x81\\x9fPS1-f\\xc3\\xb1t\\rtg&\\nn\\xe2\\x80\\x85rjA\\r\\xc3\\xa9f\\xe2\\x80\\x94\\xc3\\xb1\\xe2\\x80\\xa6STZCm3M\\xe2\\x81\\x9f6)\"\\nASr&Jr;O\\xe2\\x80\\xa6o2\\xc3\\xb11e7dE\\xc3\\xb1\\xe2\\x80\\x9d&B2hj!jm\\xe2\\x81\\x9f\"\\'1y?vi\\xc3\\xb1\\xe2\\x81\\x9f\\xc2\\xa0)KVE\"l\\r0yAe\\xc3\\xa9.-airJdd\\r!OR5gW\\xe2\\x80\\x94m(\\xc2\\xa0Th\\nS;n&I&\\'T&0as4\"*)\\xe2\\x80\\x9df;%Mh-%/J71\\xe2\\x80\\x98YEH9\\xc2\\xa0aLxoB8B$5\\xe2\\x80\\x85!\\xe2\\x80\\x937!%f,h\\'\\xe2\\x80\\x99\\xe2\\x80\\x98\\'\\xe2\\x80\\x94cS01\\xe2\\x80\\x9cT.\\xe2\\x80\\x98o8\\' \\xc3\\xa9Qs$-E)2j5l\\xe2\\x80\\x987ryT\\xe2\\x80\\x9cw\\xd0\\xb5wk\\xe2\\x80\\x94ka&(HeUZ:\\xc3\\xa9\\xe2\\x80\\x85p\\xe2\\x80\\x94)? 9caAQ/U*e!1tbFy\\'dhp!\\xc3\\xb1DVvz?XZ\\xe2\\x80\\x99qDPDlDN:o'\n",
      " b'fresh:yQzp0LNb,CY.eo%IH\\xe2\\x80\\xa6A\\xe2\\x80\\x9d\\xe2\\x80\\x99\\xd0\\xb5a\\xe2\\x80\\x9cZ\\xc3\\xa9odgw\\r5u?9,Chc\\xc3\\xadTp)L\\nJ3\\xe2\\x80\\x85\\r?\\xc3\\xad/\\xe2\\x80\\xa6\\xc2\\xa0&n:\\xe2\\x80\\x85LGHDh3Fkt\\rDz\\'JbC1,kgj\\xc3\\xa9?\\'dJfOp\\xe2\\x80\\x94UBfBuvmwsjebVg\\xe2\\x80\\x85o\\xe2\\x80\\x85(ZCJs5\\xc3\\xa9X!hTvh\\xe2\\x80\\x9d&g\"6xL\\xe2\\x80\\xa6hY63K\\r\\xc3\\xb17\\xe2\\x80\\xa6W\\xc3\\xa9XF,WL)\\xe2\\x80\\x9dphGMR$ogY1.oGL\\xc3\\xb1yXK\\xe2\\x80\\x85G-gfqoM\\xe2\\x80\\x93eXqsELi*P5*2hi\\xe2\\x80\\x9c5ko\\xe2\\x80\\x9d(Sd\\'w0zADWMLXz\\xe2\\x80\\x996YN\\xc3\\xb1\\xd0\\xb5Qw9z(n*I7w\\xe2\\x80\\x9cHpE9gH\\xe2\\x81\\x9f\\xe2\\x80\\x9c;Ax\\xc3\\xa9:83KArwq SdmGmI6J\\xe2\\x80\\x85XloP%s\\xe2\\x80\\x9d\\xc3\\xa9)O:P\"wvF9LsLm21caIHafnS\\xe2\\x80\\x93TJGJH\\xe2\\x80\\xa6\\xc2\\xa0kD!hU\\xc3\\xb1(ZeJ\\xc2\\xa0*VWez?KXc9t2\\rmp\\xe2\\x80\\x99V:/ofk8k\\xe2\\x80\\x94o Rf?\\xc3\\xad\\xe2\\x80\\x98fd\\xc2\\xa0\\xe2\\x80\\x993\\xe2\\x80\\x987\\xc2\\xa00P\\xe2\\x80\\x9cN\\'JCH/SNqLf\\xe2\\x80\\x93r\"-\\rc\\xc2\\xa0):?\\xc3\\xa9\\xe2\\x80\\x9cbY6%Yb!\\xc3\\xa9K?m\\xe2\\x80\\x85\\n*\\xe2\\x80\\x947n!Iz\\xd0\\xb5U\\xd0\\xb58\\xe2\\x81\\x9f-xRKVo-.A2p\\xe2\\x80\\x99gbYYB$xLL7XzURz /\\xe2\\x80\\xa6E-.R/\\'H\"\\xe2\\x80\\xa6bMOfGs0Uxc87\\'\\xe2\\x80\\x9cX\\xc3\\xad\\xe2\\x80\\x93pN HNw\\xe2\\x80\\x99c\\xd0\\xb53\\xe2\\x80\\x9c\\xc3\\xad(7\"\\xe2\\x80\\x99)vk..K\\xe2\\x80\\x85K5Y\\xd0\\xb5\\xe2\\x80\\x93\\xc3\\xb1\\n\\xc2\\xa0\\xe2\\x80\\x85m\\xe2\\x80\\x9c ielD4\"\\xe2\\x80\\x9do\\xd0\\xb5q1\\xe2\\x80\\x994G6A%s4\\xe2\\x80\\x9cD(3yHxBSeB\\xe2\\x80\\x85sKmNvZN&Y\\xe2\\x81\\x9ftjaPAGg9qL7\\xe2\\x80\\x9dVFx0f;tf9h:Z\\xe2\\x80\\x9c\\r3\\xc2\\xa0LO1\\xe2\\x80\\x85R\\'\\xe2\\x80\\x94Vp-8 oCi6zz8B\\'mC\\xe2\\x80\\x9cMb\\xc2\\xa0nz.\\xe2\\x80\\x9cDrB\\rK \\xe2\\x80\\x94yH\"5E\\xe2\\x80\\x85eg 5V9j;Csv\\xe2\\x81\\x9f\\xe2\\x80\\xa6LgZb;7ZQQ\\xe2\\x80\\x853\\xc3\\xb1Fj.gBD?GS,oZW,i:Ye\\xe2\\x80\\x99\\xe2\\x80\\x9csDa&aa\\xe2\\x80\\x9d1w\\xe2\\x80\\x93\\nJjQ\\xc2\\xa0XL&7zSJ;\\xc3\\xb1Hj3F/\\xe2\\x80\\x945\\xe2\\x80\\x93s6;\\'\\xc3\\xa9pj\\xe2\\x80\\x996xWs:ep\\'KT0QwvoTA3N(l6\\xc2\\xa0saUn1\\xc3\\xad\\xc3\\xad0vj\"\\xe2\\x80\\x98tYV\\xe2\\x80\\x98%DT4RxD\\xe2\\x80\\x85c?a,me\\xd0\\xb5\\xc3\\xad,B 4rR2RS\\xe2\\x80\\x98\\xe2\\x80\\x85(%\\xe2\\x81\\x9fr936ZO2l;d;IWP0\\xe2\\x80\\x85\\xe2\\x80\\x93!\\xc3\\xad\\xe2\\x80\\x9c*C(U\\r\\xe2\\x80\\x85eZM\\'\\xe2\\x80\\x9c%ni\\xe2\\x80\\x93z:\\rHZBsZ\\xe2\\x80\\x946z1H:\\xe2\\x80\\x85)Pb$e\\xe2\\x80\\xa6lhX\"R\\xc2\\xa0 jt\\'Zk$gz&hV\\xe2\\x80\\xa62\\'8\\xe2\\x80\\x94oo8SA%:AGhop\\xd0\\xb593E1rR\\xe2\\x81\\x9f$C\\xe2\\x80\\x99E$A*4\\rVid?f\\xc3\\xad?g3K?NI\\xc3\\xb1\\'aYV\\xc3\\xadZ\\xe2\\x80\\x98.\\r$X\\xe2\\x80\\x99:7ji5W\\xc3\\xb1tlX*Ybv XRaA\\xc2\\xa0B\\xe2\\x80\\x9d.pi\\r5\\xd0\\xb5UhBg/(4:\"\\xe2\\x81\\x9f:0vic1oU)g\\xc3\\xa9s2ar6H/*kwb\\xe2\\x80\\xa6h$jUg\\xe2\\x80\\x947(9jMi/,l\\xc2\\xa0!vYh\\n\\xe2\\x80\\x853Et8K4v7WDM!\\xe2\\x80\\x9dsK\\xe2\\x80\\xa6r\\xe2\\x80\\x9c\\xe2\\x80\\x98&u\\xc3\\xad-CyPPGQp8P\"'], shape=(5,), dtype=string) \n",
      "\n",
      "________________________________________________________________________________\n",
      "\n",
      "Run time: 2.7273271083831787\n"
     ]
    }
   ],
   "source": [
    "start = time.time()\n",
    "states = None\n",
    "next_char = tf.constant(['Party:', 'Love:', 'under:', 'Nike:', 'fresh:'])\n",
    "result = [next_char]\n",
    "\n",
    "for n in range(1000):\n",
    "  next_char, states = one_step_model.generate_one_step(next_char, states=states)\n",
    "  result.append(next_char)\n",
    "\n",
    "result = tf.strings.join(result)\n",
    "end = time.time()\n",
    "print(result, '\\n\\n' + '_'*80)\n",
    "print('\\nRun time:', end - start)"
   ]
  },
  {
   "cell_type": "markdown",
   "id": "dcf2808c",
   "metadata": {},
   "source": [
    "### Teaching the model how to learn from mistakes:"
   ]
  },
  {
   "cell_type": "markdown",
   "id": "30196054",
   "metadata": {},
   "source": [
    "The previous model does not allow for it to learn from it's mistakes. Computing has gone so far and the machine is so intelligent we can actually have it learning from itself, this is the part we've seen in class that differentiates (among other ofc) Deep Learning from Machine Learning and from AI, the absence of need for supervision.\n",
    "Following is a _curriculum learning_ version of the model where:\n",
    "\n",
    "**train_step function** is like a coach talking to the model after each move, telling it what it did well and what it needs to improve. The model then adjusts itself based on this feedback. Notice the loss parameter that we've created previously and that is the degree to what extent the model is accurate (the one we're bringing down at each EPOCH).\n",
    "\n",
    "**CustomTraining** class is a special way to train the model, giving us more control over how it learns. It's like having a training program where we decide how the model should improve, rather than just following a fixed set of instructions. This is where we have defined the number of neurons in our network for example."
   ]
  },
  {
   "cell_type": "code",
   "execution_count": 81,
   "id": "55e7af0a",
   "metadata": {},
   "outputs": [],
   "source": [
    "class CustomTraining(MyModel):\n",
    "  @tf.function\n",
    "  def train_step(self, inputs):\n",
    "      inputs, labels = inputs\n",
    "      with tf.GradientTape() as tape:\n",
    "          predictions = self(inputs, training=True)\n",
    "          loss = self.loss(labels, predictions)\n",
    "      grads = tape.gradient(loss, model.trainable_variables)\n",
    "      self.optimizer.apply_gradients(zip(grads, model.trainable_variables))\n",
    "\n",
    "      return {'loss': loss}"
   ]
  },
  {
   "cell_type": "code",
   "execution_count": 82,
   "id": "47b59e6f",
   "metadata": {},
   "outputs": [],
   "source": [
    "model = CustomTraining(\n",
    "    vocab_size=len(ids_from_chars.get_vocabulary()),\n",
    "    embedding_dim=embedding_dim,\n",
    "    rnn_units=rnn_units)"
   ]
  },
  {
   "cell_type": "code",
   "execution_count": 83,
   "id": "1c576325",
   "metadata": {},
   "outputs": [],
   "source": [
    "model.compile(optimizer = tf.keras.optimizers.Adam(),\n",
    "              loss=tf.keras.losses.SparseCategoricalCrossentropy(from_logits=True))"
   ]
  },
  {
   "cell_type": "code",
   "execution_count": 48,
   "id": "d82c7eb5",
   "metadata": {},
   "outputs": [
    {
     "name": "stdout",
     "output_type": "stream",
     "text": [
      "Epoch 1/10\n",
      "44/44 [==============================] - 54s 1s/step - loss: 3.5054\n",
      "Epoch 2/10\n",
      "44/44 [==============================] - 51s 1s/step - loss: 2.4178\n",
      "Epoch 3/10\n",
      "44/44 [==============================] - 53s 1s/step - loss: 2.2119\n",
      "Epoch 4/10\n",
      "44/44 [==============================] - 54s 1s/step - loss: 2.0621\n",
      "Epoch 5/10\n",
      "44/44 [==============================] - 54s 1s/step - loss: 1.9272\n",
      "Epoch 6/10\n",
      "44/44 [==============================] - 54s 1s/step - loss: 1.8152\n",
      "Epoch 7/10\n",
      "44/44 [==============================] - 53s 1s/step - loss: 1.7134\n",
      "Epoch 8/10\n",
      "44/44 [==============================] - 53s 1s/step - loss: 1.6236\n",
      "Epoch 9/10\n",
      "44/44 [==============================] - 54s 1s/step - loss: 1.5382\n",
      "Epoch 10/10\n",
      "44/44 [==============================] - 55s 1s/step - loss: 1.4554\n"
     ]
    },
    {
     "data": {
      "text/plain": [
       "<keras.src.callbacks.History at 0x1539d8f5d90>"
      ]
     },
     "execution_count": 48,
     "metadata": {},
     "output_type": "execute_result"
    }
   ],
   "source": [
    "model.fit(dataset, epochs=10)"
   ]
  },
  {
   "cell_type": "markdown",
   "id": "ff818427",
   "metadata": {},
   "source": [
    "### Generating text:"
   ]
  },
  {
   "cell_type": "code",
   "execution_count": 57,
   "id": "a0ba35fb",
   "metadata": {},
   "outputs": [],
   "source": [
    "class OneStep(tf.keras.Model):\n",
    "  def __init__(self, model, chars_from_ids, ids_from_chars, temperature=1.0):\n",
    "    super().__init__()\n",
    "    self.temperature = temperature\n",
    "    self.model = model\n",
    "    self.chars_from_ids = chars_from_ids\n",
    "    self.ids_from_chars = ids_from_chars\n",
    "\n",
    "    # Create a mask to prevent \"[UNK]\" from being generated.\n",
    "    skip_ids = self.ids_from_chars(['[UNK]'])[:, None]\n",
    "    sparse_mask = tf.SparseTensor(\n",
    "        # Put a -inf at each bad index.\n",
    "        values=[-float('inf')]*len(skip_ids),\n",
    "        indices=skip_ids,\n",
    "        # Match the shape to the vocabulary\n",
    "        dense_shape=[len(ids_from_chars.get_vocabulary())])\n",
    "    self.prediction_mask = tf.sparse.to_dense(sparse_mask)\n",
    "\n",
    "  @tf.function\n",
    "  def generate_one_step(self, inputs, states=None):\n",
    "    # Convert strings to token IDs.\n",
    "    input_chars = tf.strings.unicode_split(inputs, 'UTF-8')\n",
    "    input_ids = self.ids_from_chars(input_chars).to_tensor()\n",
    "\n",
    "    # Run the model.\n",
    "    # predicted_logits.shape is [batch, char, next_char_logits]\n",
    "    predicted_logits, states = self.model(inputs=input_ids, states=states,\n",
    "                                          return_state=True)\n",
    "    # Only use the last prediction.\n",
    "    predicted_logits = predicted_logits[:, -1, :]\n",
    "    predicted_logits = predicted_logits/self.temperature\n",
    "    # Apply the prediction mask: prevent \"[UNK]\" from being generated.\n",
    "    predicted_logits = predicted_logits + self.prediction_mask\n",
    "\n",
    "    # Sample the output logits to generate token IDs.\n",
    "    predicted_ids = tf.random.categorical(predicted_logits, num_samples=1)\n",
    "    predicted_ids = tf.squeeze(predicted_ids, axis=-1)\n",
    "\n",
    "    # Convert from token ids to characters\n",
    "    predicted_chars = self.chars_from_ids(predicted_ids)\n",
    "\n",
    "    # Return the characters and model state.\n",
    "    return predicted_chars, states"
   ]
  },
  {
   "cell_type": "code",
   "execution_count": 58,
   "id": "d4d6738f",
   "metadata": {},
   "outputs": [],
   "source": [
    "one_step_model = OneStep(model, chars_from_ids, ids_from_chars)"
   ]
  },
  {
   "cell_type": "markdown",
   "id": "cc333ad1",
   "metadata": {},
   "source": [
    "### Have the user introduce a one liner:"
   ]
  },
  {
   "cell_type": "code",
   "execution_count": 85,
   "id": "3d978ae6",
   "metadata": {
    "scrolled": true
   },
   "outputs": [
    {
     "name": "stdout",
     "output_type": "stream",
     "text": [
      "Write something for the RAP GPT to pick up on:let's go and do this\n"
     ]
    }
   ],
   "source": [
    "text_introduction_for_rap_GPT = input(\"Write something for the RAP GPT to pick up on:\")"
   ]
  },
  {
   "cell_type": "code",
   "execution_count": 86,
   "id": "3395b38a",
   "metadata": {},
   "outputs": [
    {
     "name": "stdout",
     "output_type": "stream",
     "text": [
      "let's go and do this shit\r\n",
      "Tough me on the enemy's territory\r\n",
      "Telling terroristed by if you actir they distant fam\r\n",
      "Know the game stay plated road, yeah, uh\r\n",
      "This for my niggas who took a day to relax\r\n",
      "Sut a street trabobabin, and that's the word of mouth\r\n",
      "And letts gou fire, uh uh\r\n",
      "Thinking one last dealin'\r\n",
      "The only thing you ever squeleding\r\n",
      "Since he gain knowledge, I’m keeping it with the synopsis, and\r\n",
      "Shit like that make you my nigga, word is bond, you'll stay strong\r\n",
      "(Facts)\r\n",
      "What's the word, what's the word\r\n",
      "Yo yo yo yo yo yo, yo hit 'em high, hit 'em low\r\n",
      "Yo, yo, yo, yo hit 'em high, hit 'em low\r\n",
      "Yo, yo, yo, yo hit 'em high, hit 'em low\r\n",
      "Yo, yo, yo, yo hit 'em high, hit 'em low\r\n",
      "Yo, yo, yo, yo hit 'em high, hit 'em low\r\n",
      "Leave a nuck and uplest num for the move\r\n",
      "Don't this shit make shake runnin' who want kiss wanna make it right\r\n",
      "(right right right)\r\n",
      "But I won't make it through the night\r\n",
      "(night night night)\r\n",
      "Cause homicide is passing the ways\r\n",
      "When it's servent down, got mad af beet street\r\n",
      "Hope \n",
      "\n",
      "________________________________________________________________________________\n",
      "\n",
      "Run time: 1.8510901927947998\n"
     ]
    }
   ],
   "source": [
    "start = time.time()\n",
    "states = None\n",
    "next_char = tf.constant([text_introduction_for_rap_GPT])\n",
    "result = [next_char]\n",
    "\n",
    "for n in range(1000):\n",
    "  next_char, states = one_step_model.generate_one_step(next_char, states=states)\n",
    "  result.append(next_char)\n",
    "\n",
    "result = tf.strings.join(result)\n",
    "end = time.time()\n",
    "print(result[0].numpy().decode('utf-8'), '\\n\\n' + '_'*80)\n",
    "print('\\nRun time:', end - start)"
   ]
  },
  {
   "cell_type": "markdown",
   "id": "00f1ba9a",
   "metadata": {},
   "source": [
    "# Saving the model"
   ]
  },
  {
   "cell_type": "code",
   "execution_count": 136,
   "id": "30de95a8",
   "metadata": {},
   "outputs": [
    {
     "name": "stdout",
     "output_type": "stream",
     "text": [
      "WARNING:tensorflow:From C:\\Users\\mocid\\miniconda3\\envs\\ironhack_project_1\\Lib\\site-packages\\keras\\src\\saving\\legacy\\saved_model\\save_impl.py:66: The name tf.logging.warning is deprecated. Please use tf.compat.v1.logging.warning instead.\n",
      "\n",
      "WARNING:tensorflow:Skipping full serialization of Keras layer <__main__.OneStep object at 0x000002D4410AB810>, because it is not built.\n",
      "WARNING:tensorflow:Model's `__init__()` arguments contain non-serializable objects. Please implement a `get_config()` method in the subclassed Model for proper saving and loading. Defaulting to empty config.\n",
      "WARNING:tensorflow:Model's `__init__()` arguments contain non-serializable objects. Please implement a `get_config()` method in the subclassed Model for proper saving and loading. Defaulting to empty config.\n",
      "INFO:tensorflow:Assets written to: curriculum_learning_10EPOCHS\\assets\n"
     ]
    },
    {
     "name": "stderr",
     "output_type": "stream",
     "text": [
      "INFO:tensorflow:Assets written to: curriculum_learning_10EPOCHS\\assets\n"
     ]
    }
   ],
   "source": [
    "tf.saved_model.save(one_step_model, 'curriculum_learning_10EPOCHS')\n",
    "#curriculum_learning_10EPOCHS_reloaded = tf.saved_model.load('curriculum_learning_10EPOCHS')"
   ]
  },
  {
   "cell_type": "markdown",
   "id": "09f281b9",
   "metadata": {},
   "source": [
    "Or the whole training just in one cell:"
   ]
  },
  {
   "cell_type": "code",
   "execution_count": 84,
   "id": "a23688e8",
   "metadata": {},
   "outputs": [
    {
     "name": "stdout",
     "output_type": "stream",
     "text": [
      "Epoch 1 Batch 0 Loss 4.5645\n",
      "\n",
      "Epoch 1 Loss: 3.4272\n",
      "Time taken for 1 epoch 62.96 sec\n",
      "________________________________________________________________________________\n",
      "Epoch 2 Batch 0 Loss 2.5762\n",
      "\n",
      "Epoch 2 Loss: 2.3840\n",
      "Time taken for 1 epoch 68.51 sec\n",
      "________________________________________________________________________________\n",
      "Epoch 3 Batch 0 Loss 2.2391\n",
      "\n",
      "Epoch 3 Loss: 2.1792\n",
      "Time taken for 1 epoch 69.67 sec\n",
      "________________________________________________________________________________\n",
      "Epoch 4 Batch 0 Loss 2.1059\n",
      "\n",
      "Epoch 4 Loss: 2.0244\n",
      "Time taken for 1 epoch 70.40 sec\n",
      "________________________________________________________________________________\n",
      "Epoch 5 Batch 0 Loss 1.9159\n",
      "\n",
      "Epoch 5 Loss: 1.8889\n",
      "Time taken for 1 epoch 70.39 sec\n",
      "________________________________________________________________________________\n",
      "Epoch 6 Batch 0 Loss 1.8013\n",
      "\n",
      "Epoch 6 Loss: 1.7734\n",
      "Time taken for 1 epoch 66.74 sec\n",
      "________________________________________________________________________________\n",
      "Epoch 7 Batch 0 Loss 1.6394\n",
      "\n",
      "Epoch 7 Loss: 1.6736\n",
      "Time taken for 1 epoch 68.76 sec\n",
      "________________________________________________________________________________\n",
      "Epoch 8 Batch 0 Loss 1.6053\n",
      "\n",
      "Epoch 8 Loss: 1.5794\n",
      "Time taken for 1 epoch 68.59 sec\n",
      "________________________________________________________________________________\n",
      "Epoch 9 Batch 0 Loss 1.5608\n",
      "\n",
      "Epoch 9 Loss: 1.4907\n",
      "Time taken for 1 epoch 67.62 sec\n",
      "________________________________________________________________________________\n",
      "Epoch 10 Batch 0 Loss 1.3613\n",
      "\n",
      "Epoch 10 Loss: 1.4076\n",
      "Time taken for 1 epoch 72.14 sec\n",
      "________________________________________________________________________________\n",
      "Epoch 11 Batch 0 Loss 1.2487\n",
      "\n",
      "Epoch 11 Loss: 1.3240\n",
      "Time taken for 1 epoch 78.89 sec\n",
      "________________________________________________________________________________\n",
      "Epoch 12 Batch 0 Loss 1.2585\n",
      "\n",
      "Epoch 12 Loss: 1.2369\n",
      "Time taken for 1 epoch 76.40 sec\n",
      "________________________________________________________________________________\n",
      "Epoch 13 Batch 0 Loss 1.0769\n",
      "\n",
      "Epoch 13 Loss: 1.1487\n",
      "Time taken for 1 epoch 77.74 sec\n",
      "________________________________________________________________________________\n",
      "Epoch 14 Batch 0 Loss 1.0598\n",
      "\n",
      "Epoch 14 Loss: 1.0560\n",
      "Time taken for 1 epoch 64.52 sec\n",
      "________________________________________________________________________________\n",
      "Epoch 15 Batch 0 Loss 0.9113\n",
      "\n",
      "Epoch 15 Loss: 0.9570\n",
      "Time taken for 1 epoch 60.46 sec\n",
      "________________________________________________________________________________\n",
      "Epoch 16 Batch 0 Loss 0.8706\n",
      "\n",
      "Epoch 16 Loss: 0.8505\n",
      "Time taken for 1 epoch 60.90 sec\n",
      "________________________________________________________________________________\n",
      "Epoch 17 Batch 0 Loss 0.6998\n",
      "\n",
      "Epoch 17 Loss: 0.7410\n",
      "Time taken for 1 epoch 62.99 sec\n",
      "________________________________________________________________________________\n",
      "Epoch 18 Batch 0 Loss 0.5794\n",
      "\n",
      "Epoch 18 Loss: 0.6279\n",
      "Time taken for 1 epoch 65.36 sec\n",
      "________________________________________________________________________________\n",
      "Epoch 19 Batch 0 Loss 0.5064\n",
      "\n",
      "Epoch 19 Loss: 0.5169\n",
      "Time taken for 1 epoch 63.78 sec\n",
      "________________________________________________________________________________\n",
      "Epoch 20 Batch 0 Loss 0.3785\n",
      "\n",
      "Epoch 20 Loss: 0.4145\n",
      "Time taken for 1 epoch 63.41 sec\n",
      "________________________________________________________________________________\n",
      "Epoch 21 Batch 0 Loss 0.3213\n",
      "\n",
      "Epoch 21 Loss: 0.3263\n",
      "Time taken for 1 epoch 61.96 sec\n",
      "________________________________________________________________________________\n",
      "Epoch 22 Batch 0 Loss 0.2439\n",
      "\n",
      "Epoch 22 Loss: 0.2556\n",
      "Time taken for 1 epoch 58.45 sec\n",
      "________________________________________________________________________________\n",
      "Epoch 23 Batch 0 Loss 0.1966\n",
      "\n",
      "Epoch 23 Loss: 0.2060\n",
      "Time taken for 1 epoch 60.83 sec\n",
      "________________________________________________________________________________\n",
      "Epoch 24 Batch 0 Loss 0.1561\n",
      "\n",
      "Epoch 24 Loss: 0.1665\n",
      "Time taken for 1 epoch 61.39 sec\n",
      "________________________________________________________________________________\n",
      "Epoch 25 Batch 0 Loss 0.1323\n",
      "\n",
      "Epoch 25 Loss: 0.1390\n",
      "Time taken for 1 epoch 61.57 sec\n",
      "________________________________________________________________________________\n",
      "Epoch 26 Batch 0 Loss 0.1071\n",
      "\n",
      "Epoch 26 Loss: 0.1208\n",
      "Time taken for 1 epoch 59.93 sec\n",
      "________________________________________________________________________________\n",
      "Epoch 27 Batch 0 Loss 0.0987\n",
      "\n",
      "Epoch 27 Loss: 0.1092\n",
      "Time taken for 1 epoch 61.89 sec\n",
      "________________________________________________________________________________\n",
      "Epoch 28 Batch 0 Loss 0.0912\n",
      "\n",
      "Epoch 28 Loss: 0.1007\n",
      "Time taken for 1 epoch 62.46 sec\n",
      "________________________________________________________________________________\n",
      "Epoch 29 Batch 0 Loss 0.0847\n",
      "\n",
      "Epoch 29 Loss: 0.0959\n",
      "Time taken for 1 epoch 60.63 sec\n",
      "________________________________________________________________________________\n",
      "Epoch 30 Batch 0 Loss 0.0879\n",
      "\n",
      "Epoch 30 Loss: 0.0919\n",
      "Time taken for 1 epoch 61.86 sec\n",
      "________________________________________________________________________________\n"
     ]
    }
   ],
   "source": [
    "EPOCHS = 30\n",
    "\n",
    "mean = tf.metrics.Mean()\n",
    "\n",
    "for epoch in range(EPOCHS):\n",
    "    start = time.time()\n",
    "\n",
    "    mean.reset_states()\n",
    "    for (batch_n, (inp, target)) in enumerate(dataset):\n",
    "        logs = model.train_step([inp, target])\n",
    "        mean.update_state(logs['loss'])\n",
    "\n",
    "        if batch_n % 50 == 0:\n",
    "            template = f\"Epoch {epoch+1} Batch {batch_n} Loss {logs['loss']:.4f}\"\n",
    "            print(template)\n",
    "\n",
    "    # saving (checkpoint) the model every 5 epochs\n",
    "    if (epoch + 1) % 5 == 0:\n",
    "        model.save_weights(checkpoint_prefix.format(epoch=epoch))\n",
    "\n",
    "    print()\n",
    "    print(f'Epoch {epoch+1} Loss: {mean.result().numpy():.4f}')\n",
    "    print(f'Time taken for 1 epoch {time.time() - start:.2f} sec')\n",
    "    print(\"_\"*80)\n",
    "\n",
    "model.save_weights(checkpoint_prefix.format(epoch=epoch))"
   ]
  },
  {
   "cell_type": "markdown",
   "id": "c28a8d61",
   "metadata": {},
   "source": [
    "## Exporting the model"
   ]
  },
  {
   "cell_type": "code",
   "execution_count": 65,
   "id": "429d097f",
   "metadata": {},
   "outputs": [
    {
     "name": "stdout",
     "output_type": "stream",
     "text": [
      "WARNING:tensorflow:Skipping full serialization of Keras layer <__main__.OneStep object at 0x000001539FB77DD0>, because it is not built.\n"
     ]
    },
    {
     "name": "stderr",
     "output_type": "stream",
     "text": [
      "WARNING:tensorflow:Skipping full serialization of Keras layer <__main__.OneStep object at 0x000001539FB77DD0>, because it is not built.\n"
     ]
    },
    {
     "name": "stdout",
     "output_type": "stream",
     "text": [
      "WARNING:tensorflow:Model's `__init__()` arguments contain non-serializable objects. Please implement a `get_config()` method in the subclassed Model for proper saving and loading. Defaulting to empty config.\n"
     ]
    },
    {
     "name": "stderr",
     "output_type": "stream",
     "text": [
      "WARNING:tensorflow:Model's `__init__()` arguments contain non-serializable objects. Please implement a `get_config()` method in the subclassed Model for proper saving and loading. Defaulting to empty config.\n"
     ]
    },
    {
     "name": "stdout",
     "output_type": "stream",
     "text": [
      "WARNING:tensorflow:Model's `__init__()` arguments contain non-serializable objects. Please implement a `get_config()` method in the subclassed Model for proper saving and loading. Defaulting to empty config.\n"
     ]
    },
    {
     "name": "stderr",
     "output_type": "stream",
     "text": [
      "WARNING:tensorflow:Model's `__init__()` arguments contain non-serializable objects. Please implement a `get_config()` method in the subclassed Model for proper saving and loading. Defaulting to empty config.\n"
     ]
    },
    {
     "name": "stdout",
     "output_type": "stream",
     "text": [
      "INFO:tensorflow:Assets written to: Rap_GPT_06_12\\assets\n"
     ]
    },
    {
     "name": "stderr",
     "output_type": "stream",
     "text": [
      "INFO:tensorflow:Assets written to: Rap_GPT_06_12\\assets\n"
     ]
    }
   ],
   "source": [
    "tf.saved_model.save(one_step_model, 'Rap_GPT_06_12')\n",
    "# one_step_reloaded = tf.saved_model.load('Rap_GPT_05_12')"
   ]
  },
  {
   "cell_type": "markdown",
   "id": "1b3390b2",
   "metadata": {},
   "source": [
    " "
   ]
  },
  {
   "cell_type": "markdown",
   "id": "c265c28a",
   "metadata": {},
   "source": [
    " "
   ]
  },
  {
   "cell_type": "markdown",
   "id": "87ebd0d3",
   "metadata": {},
   "source": [
    " "
   ]
  },
  {
   "cell_type": "markdown",
   "id": "05c4f24b",
   "metadata": {},
   "source": [
    " "
   ]
  },
  {
   "cell_type": "markdown",
   "id": "ed004100",
   "metadata": {},
   "source": [
    " "
   ]
  },
  {
   "cell_type": "markdown",
   "id": "b646993f",
   "metadata": {},
   "source": [
    " "
   ]
  },
  {
   "cell_type": "markdown",
   "id": "d1fb72af",
   "metadata": {},
   "source": [
    " "
   ]
  },
  {
   "cell_type": "markdown",
   "id": "5884a629",
   "metadata": {},
   "source": [
    " "
   ]
  },
  {
   "cell_type": "markdown",
   "id": "e875cc83",
   "metadata": {},
   "source": [
    " "
   ]
  },
  {
   "cell_type": "markdown",
   "id": "94697727",
   "metadata": {},
   "source": [
    " "
   ]
  },
  {
   "cell_type": "markdown",
   "id": "665b5417",
   "metadata": {},
   "source": [
    " "
   ]
  },
  {
   "cell_type": "markdown",
   "id": "9c5da0a5",
   "metadata": {},
   "source": [
    " "
   ]
  },
  {
   "cell_type": "markdown",
   "id": "8db64be0",
   "metadata": {},
   "source": [
    " "
   ]
  },
  {
   "cell_type": "markdown",
   "id": "fb75f6f4",
   "metadata": {},
   "source": [
    " "
   ]
  },
  {
   "cell_type": "markdown",
   "id": "83ebd52d",
   "metadata": {},
   "source": [
    " "
   ]
  },
  {
   "cell_type": "markdown",
   "id": "f7d901e4",
   "metadata": {},
   "source": [
    " "
   ]
  },
  {
   "cell_type": "markdown",
   "id": "796d286a",
   "metadata": {},
   "source": [
    " "
   ]
  },
  {
   "cell_type": "markdown",
   "id": "1d37e9f7",
   "metadata": {},
   "source": [
    " "
   ]
  },
  {
   "cell_type": "markdown",
   "id": "6b640d4e",
   "metadata": {},
   "source": [
    " "
   ]
  },
  {
   "cell_type": "markdown",
   "id": "41797e72",
   "metadata": {},
   "source": [
    " "
   ]
  },
  {
   "cell_type": "markdown",
   "id": "39d586ae",
   "metadata": {},
   "source": [
    " "
   ]
  },
  {
   "cell_type": "markdown",
   "id": "69ff7275",
   "metadata": {},
   "source": [
    " "
   ]
  },
  {
   "cell_type": "markdown",
   "id": "07f9db18",
   "metadata": {},
   "source": [
    " "
   ]
  },
  {
   "cell_type": "markdown",
   "id": "562cd833",
   "metadata": {},
   "source": [
    " "
   ]
  },
  {
   "cell_type": "markdown",
   "id": "41b4ee46",
   "metadata": {},
   "source": [
    " "
   ]
  },
  {
   "cell_type": "markdown",
   "id": "738c0b0d",
   "metadata": {},
   "source": [
    " "
   ]
  },
  {
   "cell_type": "markdown",
   "id": "273001fa",
   "metadata": {},
   "source": [
    " "
   ]
  },
  {
   "cell_type": "markdown",
   "id": "2e6f7d47",
   "metadata": {},
   "source": [
    " "
   ]
  },
  {
   "cell_type": "markdown",
   "id": "c7a51254",
   "metadata": {},
   "source": [
    " "
   ]
  },
  {
   "cell_type": "markdown",
   "id": "bd61f72d",
   "metadata": {},
   "source": [
    "### Have the user introduce a one liner:"
   ]
  },
  {
   "cell_type": "code",
   "execution_count": 61,
   "id": "e631e187",
   "metadata": {
    "scrolled": true
   },
   "outputs": [
    {
     "name": "stdout",
     "output_type": "stream",
     "text": [
      "Write something for the RAP GPT to pick up on:This is what we've been talking about\n"
     ]
    }
   ],
   "source": [
    "text_introduction_for_rap_GPT = input(\"Write something for the RAP GPT to pick up on:\")"
   ]
  },
  {
   "cell_type": "code",
   "execution_count": 64,
   "id": "9b4279e8",
   "metadata": {},
   "outputs": [
    {
     "name": "stdout",
     "output_type": "stream",
     "text": [
      "This is what we've been talking about to bary when they up\r\n",
      "So don't you confide into the evil and corrupt\r\n",
      "This is urgent, Apex on the vertex, tonight we're serving serpents\r\n",
      "Cause they always be behind in the cut\r\n",
      "Always in the skies watchin' stars when they up\r\n",
      "So don't you confide into the evil and corrupt\r\n",
      "This is urgent, Apex on the vertex, tonight we're serving serpents\r\n",
      "Cause they always be behind in the cut\r\n",
      "Always in the skies watchin' stars wwentity invistoner\r\n",
      "They don’t feel the name, but they say the music dope though\r\n",
      "Fuck in the grap ficude, and then I remenies that I have sip\r\n",
      "I was raised by the Syattle bomp through them rhythm-p, repped\r\n",
      "Homie, 't's live my life like this\r\n",
      "And I ain't tryna know what lifeless my sprilve\r\n",
      "I'm the reason why I'm only hurt us\r\n",
      "I put my poin on the Evil and corrupt of a million\r\n",
      "But the love potion when it sprays\r\n",
      "They just caught up in the deal\r\n",
      "Charged our babords not me tokethen to love me now (I need you)\r\n",
      "You might also like\r\n",
      "Pardom free up and then you gave to get aga \n",
      "\n",
      "________________________________________________________________________________\n",
      "\n",
      "Run time: 1.7331843376159668\n"
     ]
    }
   ],
   "source": [
    "start = time.time()\n",
    "states = None\n",
    "next_char = tf.constant([text_introduction_for_rap_GPT])\n",
    "result = [next_char]\n",
    "\n",
    "for n in range(1000):\n",
    "  next_char, states = one_step_model.generate_one_step(next_char, states=states)\n",
    "  result.append(next_char)\n",
    "\n",
    "result = tf.strings.join(result)\n",
    "end = time.time()\n",
    "print(result[0].numpy().decode('utf-8'), '\\n\\n' + '_'*80)\n",
    "print('\\nRun time:', end - start)"
   ]
  },
  {
   "cell_type": "code",
   "execution_count": null,
   "id": "20d17bef",
   "metadata": {},
   "outputs": [],
   "source": []
  }
 ],
 "metadata": {
  "kernelspec": {
   "display_name": "ironhack_project_1",
   "language": "python",
   "name": "ironhack_project_1"
  },
  "language_info": {
   "codemirror_mode": {
    "name": "ipython",
    "version": 3
   },
   "file_extension": ".py",
   "mimetype": "text/x-python",
   "name": "python",
   "nbconvert_exporter": "python",
   "pygments_lexer": "ipython3",
   "version": "3.11.5"
  }
 },
 "nbformat": 4,
 "nbformat_minor": 5
}
